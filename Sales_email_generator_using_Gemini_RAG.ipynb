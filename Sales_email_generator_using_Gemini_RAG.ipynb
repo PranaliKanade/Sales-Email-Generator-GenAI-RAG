{
  "cells": [
    {
      "cell_type": "code",
      "source": [
        "pip install groq"
      ],
      "metadata": {
        "colab": {
          "base_uri": "https://localhost:8080/"
        },
        "id": "E2KHVAnVafZP",
        "outputId": "b29b4fe7-b0b6-4440-a5ff-6a6b0edbc39d"
      },
      "id": "E2KHVAnVafZP",
      "execution_count": 1,
      "outputs": [
        {
          "output_type": "stream",
          "name": "stdout",
          "text": [
            "Collecting groq\n",
            "  Downloading groq-0.15.0-py3-none-any.whl.metadata (14 kB)\n",
            "Requirement already satisfied: anyio<5,>=3.5.0 in /usr/local/lib/python3.10/dist-packages (from groq) (3.7.1)\n",
            "Requirement already satisfied: distro<2,>=1.7.0 in /usr/local/lib/python3.10/dist-packages (from groq) (1.9.0)\n",
            "Requirement already satisfied: httpx<1,>=0.23.0 in /usr/local/lib/python3.10/dist-packages (from groq) (0.28.1)\n",
            "Requirement already satisfied: pydantic<3,>=1.9.0 in /usr/local/lib/python3.10/dist-packages (from groq) (2.10.3)\n",
            "Requirement already satisfied: sniffio in /usr/local/lib/python3.10/dist-packages (from groq) (1.3.1)\n",
            "Requirement already satisfied: typing-extensions<5,>=4.10 in /usr/local/lib/python3.10/dist-packages (from groq) (4.12.2)\n",
            "Requirement already satisfied: idna>=2.8 in /usr/local/lib/python3.10/dist-packages (from anyio<5,>=3.5.0->groq) (3.10)\n",
            "Requirement already satisfied: exceptiongroup in /usr/local/lib/python3.10/dist-packages (from anyio<5,>=3.5.0->groq) (1.2.2)\n",
            "Requirement already satisfied: certifi in /usr/local/lib/python3.10/dist-packages (from httpx<1,>=0.23.0->groq) (2024.12.14)\n",
            "Requirement already satisfied: httpcore==1.* in /usr/local/lib/python3.10/dist-packages (from httpx<1,>=0.23.0->groq) (1.0.7)\n",
            "Requirement already satisfied: h11<0.15,>=0.13 in /usr/local/lib/python3.10/dist-packages (from httpcore==1.*->httpx<1,>=0.23.0->groq) (0.14.0)\n",
            "Requirement already satisfied: annotated-types>=0.6.0 in /usr/local/lib/python3.10/dist-packages (from pydantic<3,>=1.9.0->groq) (0.7.0)\n",
            "Requirement already satisfied: pydantic-core==2.27.1 in /usr/local/lib/python3.10/dist-packages (from pydantic<3,>=1.9.0->groq) (2.27.1)\n",
            "Downloading groq-0.15.0-py3-none-any.whl (109 kB)\n",
            "\u001b[?25l   \u001b[90m━━━━━━━━━━━━━━━━━━━━━━━━━━━━━━━━━━━━━━━━\u001b[0m \u001b[32m0.0/109.6 kB\u001b[0m \u001b[31m?\u001b[0m eta \u001b[36m-:--:--\u001b[0m\r\u001b[2K   \u001b[90m━━━━━━━━━━━━━━━━━━━━━━━━━━━━━━━━━━━━━━━━\u001b[0m \u001b[32m109.6/109.6 kB\u001b[0m \u001b[31m4.2 MB/s\u001b[0m eta \u001b[36m0:00:00\u001b[0m\n",
            "\u001b[?25hInstalling collected packages: groq\n",
            "Successfully installed groq-0.15.0\n"
          ]
        }
      ]
    },
    {
      "cell_type": "code",
      "source": [
        "# Testing if the API Works\n",
        "import os\n",
        "\n",
        "from groq import Groq\n",
        "\n",
        "# Initialize the Groq client\n",
        "client = Groq(api_key='')\n",
        "\n",
        "chat_completion = client.chat.completions.create(\n",
        "    messages=[\n",
        "        {\n",
        "            \"role\": \"system\",\n",
        "            \"content\": \"you are a helpful assistant.\"\n",
        "        },\n",
        "        {\n",
        "            \"role\": \"user\",\n",
        "            \"content\": \"Explain the importance of fast language models\",\n",
        "        }\n",
        "    ],\n",
        "    model=\"llama-3.1-8b-instant\",\n",
        ")\n",
        "\n",
        "print(chat_completion.choices[0].message.content)\n",
        "\n",
        "## Available models: https://console.groq.com/docs/models"
      ],
      "metadata": {
        "colab": {
          "base_uri": "https://localhost:8080/"
        },
        "id": "YrfFrP09aZnj",
        "outputId": "56999838-e1eb-49c5-b25b-f5a1ca589e04"
      },
      "id": "YrfFrP09aZnj",
      "execution_count": 2,
      "outputs": [
        {
          "output_type": "stream",
          "name": "stdout",
          "text": [
            "Fast language models, also known as efficient or low-latency language models, have gained significant attention in recent years due to their importance in various applications. Here are some reasons why fast language models are crucial:\n",
            "\n",
            "1. **Real-time conversational AI**: Fast language models enable real-time conversational AI systems, such as chatbots, voice assistants, and virtual customer service agents. These systems require quick responses to user queries, and low-latency models ensure that the conversation flows smoothly.\n",
            "2. **Efficient computing resources**: Modern language models require significant computational resources, which can be expensive and energy-intensive. Fast language models help reduce the computational demands, making it possible to deploy larger and more complex models on smaller devices or with limited computing resources.\n",
            "3. **Scalability**: Fast language models enable the development of scalable language processing systems that can handle large volumes of requests. This is particularly important in cloud-based services, where the infrastructure needs to be able to handle a sudden increase in traffic.\n",
            "4. **Improved user experience**: Fast language models provide faster responses, reducing the time it takes for users to get the information they need. This leads to improved user engagement, satisfaction, and retention.\n",
            "5. **Advancements in research**: Fast language models accelerate research in natural language processing (NLP) and deep learning. They enable researchers to explore new models, architectures, and techniques, leading to breakthroughs and innovations in AI.\n",
            "6. **Edge AI**: Fast language models support edge AI applications, where the processing takes place on edge devices, such as smartphones, smart speakers, or smart home devices. This allows for faster and more secure processing of sensitive data.\n",
            "7. **Virtual assistants**: Fast language models are crucial for virtual assistants, such as smart home assistants, car infotainment systems, and voice-controlled applications. These models enable quick and natural interactions, enhancing user experience.\n",
            "8. **Explainable AI**: Fast language models can provide insights into the decision-making process, allowing developers to create more explainable AI systems. This is particularly important in applications where transparency and accountability are critical, such as in finance, healthcare, or education.\n",
            "9. **Cross-lingual applications**: Fast language models can handle multiple languages, making them essential for cross-lingual applications, such as multilingual chatbots, translators, or language learning platforms.\n",
            "10. **Economic benefits**: Fast language models can lead to cost savings in various industries, such as customer service, logistics, or healthcare, by reducing the time it takes to process and respond to user queries.\n",
            "\n",
            "To achieve these benefits, researchers and developers are exploring various techniques to design faster language models, including:\n",
            "\n",
            "1. **Pruning**: Removing unnecessary parameters or connections to reduce the model's size and computational demands.\n",
            "2. **Quantization**: Representing weights and activations using lower-precision data types to reduce memory usage and improve performance.\n",
            "3. **Knowledge distillation**: Transferring knowledge from a large, complex model to a smaller, faster model.\n",
            "4. **Model paralleling**: Running multiple models in parallel to improve performance and responsiveness.\n",
            "5. **Efficient architectures**: Designing models that are inherently more efficient, such as transformer-based models.\n",
            "\n",
            "These advances have made fast language models an essential component of modern AI systems, enabling fast, accurate, and scalable language processing capabilities.\n"
          ]
        }
      ]
    },
    {
      "cell_type": "code",
      "source": [
        "from groq import Groq\n",
        "\n",
        "# Initialize the Groq client with just the api_key\n",
        "client = Groq(api_key='')\n",
        "\n",
        "# Perform the chat completion using client.chat.completions.create()\n",
        "chat_completion = client.chat.completions.create(\n",
        "    messages=[\n",
        "        {\"role\": \"system\", \"content\": \"You are a helpful assistant.\"},\n",
        "        {\"role\": \"user\", \"content\": \"The first person to land on moon was ...\"},\n",
        "    ],\n",
        "    model=\"llama-3.1-70b-versatile\", # Specify the model here\n",
        "    temperature=0  # Specify the temperature here\n",
        ")\n",
        "\n",
        "print(chat_completion.choices[0].message.content)"
      ],
      "metadata": {
        "colab": {
          "base_uri": "https://localhost:8080/"
        },
        "id": "SqQP4kmGcekA",
        "outputId": "7e440611-ca0d-4106-ac9f-9ce74d8a1cb0"
      },
      "id": "SqQP4kmGcekA",
      "execution_count": 3,
      "outputs": [
        {
          "output_type": "stream",
          "name": "stdout",
          "text": [
            "The first person to land on the moon was Neil Armstrong. He stepped out of the lunar module Eagle and onto the moon's surface on July 20, 1969, as part of the Apollo 11 mission. Armstrong famously declared, \"That's one small step for man, one giant leap for mankind,\" as he became the first human to set foot on the moon.\n"
          ]
        }
      ]
    },
    {
      "cell_type": "code",
      "source": [
        "!pip install langchain"
      ],
      "metadata": {
        "colab": {
          "base_uri": "https://localhost:8080/"
        },
        "id": "9oxvh086a0hI",
        "outputId": "501d2f3f-c04d-4e03-c820-86c69f857d84"
      },
      "id": "9oxvh086a0hI",
      "execution_count": 4,
      "outputs": [
        {
          "output_type": "stream",
          "name": "stdout",
          "text": [
            "Requirement already satisfied: langchain in /usr/local/lib/python3.10/dist-packages (0.3.12)\n",
            "Requirement already satisfied: PyYAML>=5.3 in /usr/local/lib/python3.10/dist-packages (from langchain) (6.0.2)\n",
            "Requirement already satisfied: SQLAlchemy<3,>=1.4 in /usr/local/lib/python3.10/dist-packages (from langchain) (2.0.36)\n",
            "Requirement already satisfied: aiohttp<4.0.0,>=3.8.3 in /usr/local/lib/python3.10/dist-packages (from langchain) (3.11.10)\n",
            "Requirement already satisfied: async-timeout<5.0.0,>=4.0.0 in /usr/local/lib/python3.10/dist-packages (from langchain) (4.0.3)\n",
            "Requirement already satisfied: langchain-core<0.4.0,>=0.3.25 in /usr/local/lib/python3.10/dist-packages (from langchain) (0.3.25)\n",
            "Requirement already satisfied: langchain-text-splitters<0.4.0,>=0.3.3 in /usr/local/lib/python3.10/dist-packages (from langchain) (0.3.3)\n",
            "Requirement already satisfied: langsmith<0.3,>=0.1.17 in /usr/local/lib/python3.10/dist-packages (from langchain) (0.2.3)\n",
            "Requirement already satisfied: numpy<2,>=1.22.4 in /usr/local/lib/python3.10/dist-packages (from langchain) (1.26.4)\n",
            "Requirement already satisfied: pydantic<3.0.0,>=2.7.4 in /usr/local/lib/python3.10/dist-packages (from langchain) (2.10.3)\n",
            "Requirement already satisfied: requests<3,>=2 in /usr/local/lib/python3.10/dist-packages (from langchain) (2.32.3)\n",
            "Requirement already satisfied: tenacity!=8.4.0,<10,>=8.1.0 in /usr/local/lib/python3.10/dist-packages (from langchain) (9.0.0)\n",
            "Requirement already satisfied: aiohappyeyeballs>=2.3.0 in /usr/local/lib/python3.10/dist-packages (from aiohttp<4.0.0,>=3.8.3->langchain) (2.4.4)\n",
            "Requirement already satisfied: aiosignal>=1.1.2 in /usr/local/lib/python3.10/dist-packages (from aiohttp<4.0.0,>=3.8.3->langchain) (1.3.2)\n",
            "Requirement already satisfied: attrs>=17.3.0 in /usr/local/lib/python3.10/dist-packages (from aiohttp<4.0.0,>=3.8.3->langchain) (24.3.0)\n",
            "Requirement already satisfied: frozenlist>=1.1.1 in /usr/local/lib/python3.10/dist-packages (from aiohttp<4.0.0,>=3.8.3->langchain) (1.5.0)\n",
            "Requirement already satisfied: multidict<7.0,>=4.5 in /usr/local/lib/python3.10/dist-packages (from aiohttp<4.0.0,>=3.8.3->langchain) (6.1.0)\n",
            "Requirement already satisfied: propcache>=0.2.0 in /usr/local/lib/python3.10/dist-packages (from aiohttp<4.0.0,>=3.8.3->langchain) (0.2.1)\n",
            "Requirement already satisfied: yarl<2.0,>=1.17.0 in /usr/local/lib/python3.10/dist-packages (from aiohttp<4.0.0,>=3.8.3->langchain) (1.18.3)\n",
            "Requirement already satisfied: jsonpatch<2.0,>=1.33 in /usr/local/lib/python3.10/dist-packages (from langchain-core<0.4.0,>=0.3.25->langchain) (1.33)\n",
            "Requirement already satisfied: packaging<25,>=23.2 in /usr/local/lib/python3.10/dist-packages (from langchain-core<0.4.0,>=0.3.25->langchain) (24.2)\n",
            "Requirement already satisfied: typing-extensions>=4.7 in /usr/local/lib/python3.10/dist-packages (from langchain-core<0.4.0,>=0.3.25->langchain) (4.12.2)\n",
            "Requirement already satisfied: httpx<1,>=0.23.0 in /usr/local/lib/python3.10/dist-packages (from langsmith<0.3,>=0.1.17->langchain) (0.28.1)\n",
            "Requirement already satisfied: orjson<4.0.0,>=3.9.14 in /usr/local/lib/python3.10/dist-packages (from langsmith<0.3,>=0.1.17->langchain) (3.10.12)\n",
            "Requirement already satisfied: requests-toolbelt<2.0.0,>=1.0.0 in /usr/local/lib/python3.10/dist-packages (from langsmith<0.3,>=0.1.17->langchain) (1.0.0)\n",
            "Requirement already satisfied: annotated-types>=0.6.0 in /usr/local/lib/python3.10/dist-packages (from pydantic<3.0.0,>=2.7.4->langchain) (0.7.0)\n",
            "Requirement already satisfied: pydantic-core==2.27.1 in /usr/local/lib/python3.10/dist-packages (from pydantic<3.0.0,>=2.7.4->langchain) (2.27.1)\n",
            "Requirement already satisfied: charset-normalizer<4,>=2 in /usr/local/lib/python3.10/dist-packages (from requests<3,>=2->langchain) (3.4.0)\n",
            "Requirement already satisfied: idna<4,>=2.5 in /usr/local/lib/python3.10/dist-packages (from requests<3,>=2->langchain) (3.10)\n",
            "Requirement already satisfied: urllib3<3,>=1.21.1 in /usr/local/lib/python3.10/dist-packages (from requests<3,>=2->langchain) (2.2.3)\n",
            "Requirement already satisfied: certifi>=2017.4.17 in /usr/local/lib/python3.10/dist-packages (from requests<3,>=2->langchain) (2024.12.14)\n",
            "Requirement already satisfied: greenlet!=0.4.17 in /usr/local/lib/python3.10/dist-packages (from SQLAlchemy<3,>=1.4->langchain) (3.1.1)\n",
            "Requirement already satisfied: anyio in /usr/local/lib/python3.10/dist-packages (from httpx<1,>=0.23.0->langsmith<0.3,>=0.1.17->langchain) (3.7.1)\n",
            "Requirement already satisfied: httpcore==1.* in /usr/local/lib/python3.10/dist-packages (from httpx<1,>=0.23.0->langsmith<0.3,>=0.1.17->langchain) (1.0.7)\n",
            "Requirement already satisfied: h11<0.15,>=0.13 in /usr/local/lib/python3.10/dist-packages (from httpcore==1.*->httpx<1,>=0.23.0->langsmith<0.3,>=0.1.17->langchain) (0.14.0)\n",
            "Requirement already satisfied: jsonpointer>=1.9 in /usr/local/lib/python3.10/dist-packages (from jsonpatch<2.0,>=1.33->langchain-core<0.4.0,>=0.3.25->langchain) (3.0.0)\n",
            "Requirement already satisfied: sniffio>=1.1 in /usr/local/lib/python3.10/dist-packages (from anyio->httpx<1,>=0.23.0->langsmith<0.3,>=0.1.17->langchain) (1.3.1)\n",
            "Requirement already satisfied: exceptiongroup in /usr/local/lib/python3.10/dist-packages (from anyio->httpx<1,>=0.23.0->langsmith<0.3,>=0.1.17->langchain) (1.2.2)\n"
          ]
        }
      ]
    },
    {
      "cell_type": "code",
      "source": [
        "pip install langchain_community"
      ],
      "metadata": {
        "colab": {
          "base_uri": "https://localhost:8080/"
        },
        "id": "kdOglnt1bKg1",
        "outputId": "c2c6fe60-5327-420b-d3d8-3510d612febf"
      },
      "id": "kdOglnt1bKg1",
      "execution_count": 5,
      "outputs": [
        {
          "output_type": "stream",
          "name": "stdout",
          "text": [
            "Collecting langchain_community\n",
            "  Downloading langchain_community-0.3.14-py3-none-any.whl.metadata (2.9 kB)\n",
            "Requirement already satisfied: PyYAML>=5.3 in /usr/local/lib/python3.10/dist-packages (from langchain_community) (6.0.2)\n",
            "Requirement already satisfied: SQLAlchemy<3,>=1.4 in /usr/local/lib/python3.10/dist-packages (from langchain_community) (2.0.36)\n",
            "Requirement already satisfied: aiohttp<4.0.0,>=3.8.3 in /usr/local/lib/python3.10/dist-packages (from langchain_community) (3.11.10)\n",
            "Collecting dataclasses-json<0.7,>=0.5.7 (from langchain_community)\n",
            "  Downloading dataclasses_json-0.6.7-py3-none-any.whl.metadata (25 kB)\n",
            "Collecting httpx-sse<0.5.0,>=0.4.0 (from langchain_community)\n",
            "  Downloading httpx_sse-0.4.0-py3-none-any.whl.metadata (9.0 kB)\n",
            "Collecting langchain<0.4.0,>=0.3.14 (from langchain_community)\n",
            "  Downloading langchain-0.3.14-py3-none-any.whl.metadata (7.1 kB)\n",
            "Collecting langchain-core<0.4.0,>=0.3.29 (from langchain_community)\n",
            "  Downloading langchain_core-0.3.29-py3-none-any.whl.metadata (6.3 kB)\n",
            "Requirement already satisfied: langsmith<0.3,>=0.1.125 in /usr/local/lib/python3.10/dist-packages (from langchain_community) (0.2.3)\n",
            "Requirement already satisfied: numpy<2,>=1.22.4 in /usr/local/lib/python3.10/dist-packages (from langchain_community) (1.26.4)\n",
            "Collecting pydantic-settings<3.0.0,>=2.4.0 (from langchain_community)\n",
            "  Downloading pydantic_settings-2.7.1-py3-none-any.whl.metadata (3.5 kB)\n",
            "Requirement already satisfied: requests<3,>=2 in /usr/local/lib/python3.10/dist-packages (from langchain_community) (2.32.3)\n",
            "Requirement already satisfied: tenacity!=8.4.0,<10,>=8.1.0 in /usr/local/lib/python3.10/dist-packages (from langchain_community) (9.0.0)\n",
            "Requirement already satisfied: aiohappyeyeballs>=2.3.0 in /usr/local/lib/python3.10/dist-packages (from aiohttp<4.0.0,>=3.8.3->langchain_community) (2.4.4)\n",
            "Requirement already satisfied: aiosignal>=1.1.2 in /usr/local/lib/python3.10/dist-packages (from aiohttp<4.0.0,>=3.8.3->langchain_community) (1.3.2)\n",
            "Requirement already satisfied: async-timeout<6.0,>=4.0 in /usr/local/lib/python3.10/dist-packages (from aiohttp<4.0.0,>=3.8.3->langchain_community) (4.0.3)\n",
            "Requirement already satisfied: attrs>=17.3.0 in /usr/local/lib/python3.10/dist-packages (from aiohttp<4.0.0,>=3.8.3->langchain_community) (24.3.0)\n",
            "Requirement already satisfied: frozenlist>=1.1.1 in /usr/local/lib/python3.10/dist-packages (from aiohttp<4.0.0,>=3.8.3->langchain_community) (1.5.0)\n",
            "Requirement already satisfied: multidict<7.0,>=4.5 in /usr/local/lib/python3.10/dist-packages (from aiohttp<4.0.0,>=3.8.3->langchain_community) (6.1.0)\n",
            "Requirement already satisfied: propcache>=0.2.0 in /usr/local/lib/python3.10/dist-packages (from aiohttp<4.0.0,>=3.8.3->langchain_community) (0.2.1)\n",
            "Requirement already satisfied: yarl<2.0,>=1.17.0 in /usr/local/lib/python3.10/dist-packages (from aiohttp<4.0.0,>=3.8.3->langchain_community) (1.18.3)\n",
            "Collecting marshmallow<4.0.0,>=3.18.0 (from dataclasses-json<0.7,>=0.5.7->langchain_community)\n",
            "  Downloading marshmallow-3.25.1-py3-none-any.whl.metadata (7.3 kB)\n",
            "Collecting typing-inspect<1,>=0.4.0 (from dataclasses-json<0.7,>=0.5.7->langchain_community)\n",
            "  Downloading typing_inspect-0.9.0-py3-none-any.whl.metadata (1.5 kB)\n",
            "Requirement already satisfied: langchain-text-splitters<0.4.0,>=0.3.3 in /usr/local/lib/python3.10/dist-packages (from langchain<0.4.0,>=0.3.14->langchain_community) (0.3.3)\n",
            "Requirement already satisfied: pydantic<3.0.0,>=2.7.4 in /usr/local/lib/python3.10/dist-packages (from langchain<0.4.0,>=0.3.14->langchain_community) (2.10.3)\n",
            "Requirement already satisfied: jsonpatch<2.0,>=1.33 in /usr/local/lib/python3.10/dist-packages (from langchain-core<0.4.0,>=0.3.29->langchain_community) (1.33)\n",
            "Requirement already satisfied: packaging<25,>=23.2 in /usr/local/lib/python3.10/dist-packages (from langchain-core<0.4.0,>=0.3.29->langchain_community) (24.2)\n",
            "Requirement already satisfied: typing-extensions>=4.7 in /usr/local/lib/python3.10/dist-packages (from langchain-core<0.4.0,>=0.3.29->langchain_community) (4.12.2)\n",
            "Requirement already satisfied: httpx<1,>=0.23.0 in /usr/local/lib/python3.10/dist-packages (from langsmith<0.3,>=0.1.125->langchain_community) (0.28.1)\n",
            "Requirement already satisfied: orjson<4.0.0,>=3.9.14 in /usr/local/lib/python3.10/dist-packages (from langsmith<0.3,>=0.1.125->langchain_community) (3.10.12)\n",
            "Requirement already satisfied: requests-toolbelt<2.0.0,>=1.0.0 in /usr/local/lib/python3.10/dist-packages (from langsmith<0.3,>=0.1.125->langchain_community) (1.0.0)\n",
            "Collecting python-dotenv>=0.21.0 (from pydantic-settings<3.0.0,>=2.4.0->langchain_community)\n",
            "  Downloading python_dotenv-1.0.1-py3-none-any.whl.metadata (23 kB)\n",
            "Requirement already satisfied: charset-normalizer<4,>=2 in /usr/local/lib/python3.10/dist-packages (from requests<3,>=2->langchain_community) (3.4.0)\n",
            "Requirement already satisfied: idna<4,>=2.5 in /usr/local/lib/python3.10/dist-packages (from requests<3,>=2->langchain_community) (3.10)\n",
            "Requirement already satisfied: urllib3<3,>=1.21.1 in /usr/local/lib/python3.10/dist-packages (from requests<3,>=2->langchain_community) (2.2.3)\n",
            "Requirement already satisfied: certifi>=2017.4.17 in /usr/local/lib/python3.10/dist-packages (from requests<3,>=2->langchain_community) (2024.12.14)\n",
            "Requirement already satisfied: greenlet!=0.4.17 in /usr/local/lib/python3.10/dist-packages (from SQLAlchemy<3,>=1.4->langchain_community) (3.1.1)\n",
            "Requirement already satisfied: anyio in /usr/local/lib/python3.10/dist-packages (from httpx<1,>=0.23.0->langsmith<0.3,>=0.1.125->langchain_community) (3.7.1)\n",
            "Requirement already satisfied: httpcore==1.* in /usr/local/lib/python3.10/dist-packages (from httpx<1,>=0.23.0->langsmith<0.3,>=0.1.125->langchain_community) (1.0.7)\n",
            "Requirement already satisfied: h11<0.15,>=0.13 in /usr/local/lib/python3.10/dist-packages (from httpcore==1.*->httpx<1,>=0.23.0->langsmith<0.3,>=0.1.125->langchain_community) (0.14.0)\n",
            "Requirement already satisfied: jsonpointer>=1.9 in /usr/local/lib/python3.10/dist-packages (from jsonpatch<2.0,>=1.33->langchain-core<0.4.0,>=0.3.29->langchain_community) (3.0.0)\n",
            "Requirement already satisfied: annotated-types>=0.6.0 in /usr/local/lib/python3.10/dist-packages (from pydantic<3.0.0,>=2.7.4->langchain<0.4.0,>=0.3.14->langchain_community) (0.7.0)\n",
            "Requirement already satisfied: pydantic-core==2.27.1 in /usr/local/lib/python3.10/dist-packages (from pydantic<3.0.0,>=2.7.4->langchain<0.4.0,>=0.3.14->langchain_community) (2.27.1)\n",
            "Collecting mypy-extensions>=0.3.0 (from typing-inspect<1,>=0.4.0->dataclasses-json<0.7,>=0.5.7->langchain_community)\n",
            "  Downloading mypy_extensions-1.0.0-py3-none-any.whl.metadata (1.1 kB)\n",
            "Requirement already satisfied: sniffio>=1.1 in /usr/local/lib/python3.10/dist-packages (from anyio->httpx<1,>=0.23.0->langsmith<0.3,>=0.1.125->langchain_community) (1.3.1)\n",
            "Requirement already satisfied: exceptiongroup in /usr/local/lib/python3.10/dist-packages (from anyio->httpx<1,>=0.23.0->langsmith<0.3,>=0.1.125->langchain_community) (1.2.2)\n",
            "Downloading langchain_community-0.3.14-py3-none-any.whl (2.5 MB)\n",
            "\u001b[2K   \u001b[90m━━━━━━━━━━━━━━━━━━━━━━━━━━━━━━━━━━━━━━━━\u001b[0m \u001b[32m2.5/2.5 MB\u001b[0m \u001b[31m35.5 MB/s\u001b[0m eta \u001b[36m0:00:00\u001b[0m\n",
            "\u001b[?25hDownloading dataclasses_json-0.6.7-py3-none-any.whl (28 kB)\n",
            "Downloading httpx_sse-0.4.0-py3-none-any.whl (7.8 kB)\n",
            "Downloading langchain-0.3.14-py3-none-any.whl (1.0 MB)\n",
            "\u001b[2K   \u001b[90m━━━━━━━━━━━━━━━━━━━━━━━━━━━━━━━━━━━━━━━━\u001b[0m \u001b[32m1.0/1.0 MB\u001b[0m \u001b[31m37.9 MB/s\u001b[0m eta \u001b[36m0:00:00\u001b[0m\n",
            "\u001b[?25hDownloading langchain_core-0.3.29-py3-none-any.whl (411 kB)\n",
            "\u001b[2K   \u001b[90m━━━━━━━━━━━━━━━━━━━━━━━━━━━━━━━━━━━━━━━━\u001b[0m \u001b[32m411.6/411.6 kB\u001b[0m \u001b[31m17.2 MB/s\u001b[0m eta \u001b[36m0:00:00\u001b[0m\n",
            "\u001b[?25hDownloading pydantic_settings-2.7.1-py3-none-any.whl (29 kB)\n",
            "Downloading marshmallow-3.25.1-py3-none-any.whl (49 kB)\n",
            "\u001b[2K   \u001b[90m━━━━━━━━━━━━━━━━━━━━━━━━━━━━━━━━━━━━━━━━\u001b[0m \u001b[32m49.6/49.6 kB\u001b[0m \u001b[31m4.0 MB/s\u001b[0m eta \u001b[36m0:00:00\u001b[0m\n",
            "\u001b[?25hDownloading python_dotenv-1.0.1-py3-none-any.whl (19 kB)\n",
            "Downloading typing_inspect-0.9.0-py3-none-any.whl (8.8 kB)\n",
            "Downloading mypy_extensions-1.0.0-py3-none-any.whl (4.7 kB)\n",
            "Installing collected packages: python-dotenv, mypy-extensions, marshmallow, httpx-sse, typing-inspect, pydantic-settings, dataclasses-json, langchain-core, langchain, langchain_community\n",
            "  Attempting uninstall: langchain-core\n",
            "    Found existing installation: langchain-core 0.3.25\n",
            "    Uninstalling langchain-core-0.3.25:\n",
            "      Successfully uninstalled langchain-core-0.3.25\n",
            "  Attempting uninstall: langchain\n",
            "    Found existing installation: langchain 0.3.12\n",
            "    Uninstalling langchain-0.3.12:\n",
            "      Successfully uninstalled langchain-0.3.12\n",
            "Successfully installed dataclasses-json-0.6.7 httpx-sse-0.4.0 langchain-0.3.14 langchain-core-0.3.29 langchain_community-0.3.14 marshmallow-3.25.1 mypy-extensions-1.0.0 pydantic-settings-2.7.1 python-dotenv-1.0.1 typing-inspect-0.9.0\n"
          ]
        }
      ]
    },
    {
      "cell_type": "code",
      "execution_count": 6,
      "id": "90d33612",
      "metadata": {
        "colab": {
          "base_uri": "https://localhost:8080/"
        },
        "id": "90d33612",
        "outputId": "b62ab39d-6f2d-40ef-da77-ed8c9384cd30"
      },
      "outputs": [
        {
          "output_type": "stream",
          "name": "stderr",
          "text": [
            "WARNING:langchain_community.utils.user_agent:USER_AGENT environment variable not set, consider setting it to identify your requests.\n"
          ]
        },
        {
          "output_type": "stream",
          "name": "stdout",
          "text": [
            "Solliciteren voor Data Engineer\n",
            "\n",
            "Zoek vacaturesNavigatie overslaanZoek vacaturesNIKE, INC. JOBSFuncties op opdrachtbasisJoin The Talent CommunityLife @ NikeOverzichtArbeidsvoorwaardenMerkenOverzichtJordanConverseTeamsOverzichtAdministrative SupportAdvanced InnovationAir Manufacturing InnovationAviationCommunicationsCustomer ServiceDesignDigitalFaciliteitenFinance & AccountingGovernment & Public AffairsHuman ResourcesData & AnalyticsLegalManufacturing & EngineeringMarketingMerchandisingPlanningPrivacyProcurementProduct Creation, Development & ManagementRetail CorporateRetail StoresSalesSociale en community-impactSports MarketingStrategic PlanningSupply Chain, Distribution & LogisticsSustainabilityTechnologyLocatiesOverzichtNike WHQNike New York HQEHQ: Hilversum, NederlandELC: Laakdal, BelgiumGreater China HQDiversiteit, gelijkheid en inclusieOverzichtMilitairenBeperking en inclusieInclusie van Native AmericansStagesData & AnalyticsData EngineerBeaverton, OregonWord onderdeel van het NIKE, Inc. team\n",
            "NIKE, Inc. doet meer dan alleen de beste atleten ter wereld uitrusten. Ons bedrijf is een plek om volledig tot ontplooiing te komen, grenzen af te breken en het onmogelijke mogelijk te maken. Wij zoeken naar mensen die kunnen groeien, denken, dromen en creëren. Kenmerkend voor onze cultuur is dat we diversiteit omarmen en voorstellingsvermogen belonen. Als merk zoeken we naar presteerders, leiders en visionairs. Bij NIKE, Inc. draait het om iedereen die vaardigheden en passie met zich meebrengt naar dit uitdagende en voortdurend veranderende spel.Data Engineer - NIKE, Inc. - Beaverton, OR. Design and implement features in collaboration with product owners, data analysts, and business partners using Agile / Scrum methodology; contribute to overall architecture, frameworks and patterns for processing and storing large data volumes; design and implement distributed data processing pipelines using tools and languages prevalent in the Hadoop or Cloud ecosystems; build utilities, user defined functions, and frameworks to better enable data flow patterns; build and develop job orchestration and scheduling using Airflow; research, evaluate and utilize new technologies/tools/frameworks centered around high-volume data processing; define and apply appropriate data acquisition and consumption strategies for given technical scenarios; build and incorporate automated unit tests and participate in integration testing efforts; work with architecture/engineering leads and other teams to ensure quality solutions are implemented, and engineering best practices are defined and adhered to; and work across teams to resolve operational and performance issues. Telecommuting is available from anywhere in the U.S., except from AK, AL, AR, DE, HI, IA, ID, IN, KS, KY, LA, MT, ND, NE, NH, NM, NV, OH, OK, RI, SD, VT, WV, and WY.  Employer will accept a Bachelor’s degree in Computer Science or Information Technology and two (2) years of experience in the job offered or in an engineering-related occupation.   Experience must include the following:  Python SQL Apache Hadoop Apache Hive AWS Airflow Databricks Apache Spark Teradata Snowflake Kinesis Lamdba EMR  Apply at www.jobs.nike.com (Job #R-45775).#LI-DNIWe are committed to fostering a diverse and inclusive environment for all employees and job applicants. We offer a number of accommodations to complete our interview process including screen readers, sign language interpreters, accessible and single location for in-person interviews, closed captioning, and other reasonable modifications as needed. If you discover, as you navigate our application process, that you need assistance or an accommodation due to a disability, please complete the Candidate Accommodation Request Form.NIKE, Inc. is een sterk groeiend bedrijf dat zoekt naar teamleden die willen meegroeien. Nike biedt een aantrekkelijk pakket arbeidsvoorwaarden, een informele werkomgeving, een diverse en inclusieve cultuur en een dynamische sfeer waarin je jezelf optimaal kunt ontwikkelen. Ongeacht de locatie of functie resoneert elke Nike werknemer die ene overkoepelende missie: inspiratie en innovatie bieden aan elke atleet* ter wereld.NIKE, Inc. streeft naar diversiteit van het personeelsbestand. Gekwalificeerde sollicitanten komen in aanmerking, waarbij geen onderscheid wordt gemaakt naar ras, huidskleur, religie, geslacht, afkomst, leeftijd, seksuele geaardheid, genderidentiteit, genderexpressie, veteranenstatus of handicaps.Werving en selectieNIKE, Inc. belooft om iedere kandidaat een eersteklas, inclusieve, fascinerende en authentieke ervaring te bieden. Door deze belofte na te komen kunnen we ervoor zorgen dat je het beste uit jezelf kunt halen. Het is daarom van belang dat je begrijpt hoe het sollicitatieproces verloopt. Transparantie is cruciaal.\n",
            "\n",
            "* In dit overzicht wordt het sollicitatieproces voor zakelijke functies uitgelegd. Let op: Er kunnen andere stappen gelden bij het sollicitatieproces voor personeel in niet-zakelijke functies.Start nuArbeidsvoorwaardenOf het nu gaat om vervoer of om financiële gezondheid, wij blijven investeren in onze medewerkers om ze te helpen topperformance neer te zetten, zowel op het werk als daarbuiten. Iedereen die hier werkt, moet in staat zijn zich volledig te ontplooien.Ondersteuningsregeling voor medewerkersAandelenregeling voor medewerkersVakantiedagenZiektekostenregelingBetaald verlofProductkortingenSabbaticalsMeer infoCADEAUBONNENZOEK EEN STORENIKE JOURNALWORD MEMBERSTUDENTENKORTINGFEEDBACKPROMOTIECODESHELPHELPBestelstatusVerzending en leveringRetourzendingenBetaalmethodesContactNike promotiecodes hulpOVER NIKEOVER NIKENieuwsWerken bij NikeInvesteerdersDuurzaamheidNIKE APPSNIKE APPSNike AppNike Run ClubNike Training ClubSNKRSNederland© 2025 Nike, Inc. Alle rechten voorbehoudenHandleidingenNike AdaptNike FlyEaseNike FreeNike VaporflyNBA-fangearNike AirNike FlyknitNike PegasusNike Zoom FlyFactory StoreNike Air MaxNike FlyleatherNike ReactNike ZoomXNike AirtopiaAlgemene voorwaardenVerkoopvoorwaardenBedrijfsgegevensPrivacy- en cookiebeleidCookie-instellingen\n"
          ]
        },
        {
          "output_type": "execute_result",
          "data": {
            "text/plain": [
              "str"
            ]
          },
          "metadata": {},
          "execution_count": 6
        }
      ],
      "source": [
        "from langchain_community.document_loaders import WebBaseLoader\n",
        "\n",
        "loader = WebBaseLoader(\"https://jobs.nike.com/job/R-45775?from=job%20search%20funnel\")\n",
        "page_data = loader.load().pop().page_content\n",
        "print(page_data)\n",
        "type(page_data)"
      ]
    },
    {
      "cell_type": "code",
      "source": [
        "!pip install langchain-experimental"
      ],
      "metadata": {
        "colab": {
          "base_uri": "https://localhost:8080/"
        },
        "id": "UKCjvwQudcwE",
        "outputId": "c1c83e08-4ac8-436d-9b12-de5a0b6d090e"
      },
      "id": "UKCjvwQudcwE",
      "execution_count": 7,
      "outputs": [
        {
          "output_type": "stream",
          "name": "stdout",
          "text": [
            "Collecting langchain-experimental\n",
            "  Downloading langchain_experimental-0.3.4-py3-none-any.whl.metadata (1.7 kB)\n",
            "Requirement already satisfied: langchain-community<0.4.0,>=0.3.0 in /usr/local/lib/python3.10/dist-packages (from langchain-experimental) (0.3.14)\n",
            "Requirement already satisfied: langchain-core<0.4.0,>=0.3.28 in /usr/local/lib/python3.10/dist-packages (from langchain-experimental) (0.3.29)\n",
            "Requirement already satisfied: PyYAML>=5.3 in /usr/local/lib/python3.10/dist-packages (from langchain-community<0.4.0,>=0.3.0->langchain-experimental) (6.0.2)\n",
            "Requirement already satisfied: SQLAlchemy<3,>=1.4 in /usr/local/lib/python3.10/dist-packages (from langchain-community<0.4.0,>=0.3.0->langchain-experimental) (2.0.36)\n",
            "Requirement already satisfied: aiohttp<4.0.0,>=3.8.3 in /usr/local/lib/python3.10/dist-packages (from langchain-community<0.4.0,>=0.3.0->langchain-experimental) (3.11.10)\n",
            "Requirement already satisfied: dataclasses-json<0.7,>=0.5.7 in /usr/local/lib/python3.10/dist-packages (from langchain-community<0.4.0,>=0.3.0->langchain-experimental) (0.6.7)\n",
            "Requirement already satisfied: httpx-sse<0.5.0,>=0.4.0 in /usr/local/lib/python3.10/dist-packages (from langchain-community<0.4.0,>=0.3.0->langchain-experimental) (0.4.0)\n",
            "Requirement already satisfied: langchain<0.4.0,>=0.3.14 in /usr/local/lib/python3.10/dist-packages (from langchain-community<0.4.0,>=0.3.0->langchain-experimental) (0.3.14)\n",
            "Requirement already satisfied: langsmith<0.3,>=0.1.125 in /usr/local/lib/python3.10/dist-packages (from langchain-community<0.4.0,>=0.3.0->langchain-experimental) (0.2.3)\n",
            "Requirement already satisfied: numpy<2,>=1.22.4 in /usr/local/lib/python3.10/dist-packages (from langchain-community<0.4.0,>=0.3.0->langchain-experimental) (1.26.4)\n",
            "Requirement already satisfied: pydantic-settings<3.0.0,>=2.4.0 in /usr/local/lib/python3.10/dist-packages (from langchain-community<0.4.0,>=0.3.0->langchain-experimental) (2.7.1)\n",
            "Requirement already satisfied: requests<3,>=2 in /usr/local/lib/python3.10/dist-packages (from langchain-community<0.4.0,>=0.3.0->langchain-experimental) (2.32.3)\n",
            "Requirement already satisfied: tenacity!=8.4.0,<10,>=8.1.0 in /usr/local/lib/python3.10/dist-packages (from langchain-community<0.4.0,>=0.3.0->langchain-experimental) (9.0.0)\n",
            "Requirement already satisfied: jsonpatch<2.0,>=1.33 in /usr/local/lib/python3.10/dist-packages (from langchain-core<0.4.0,>=0.3.28->langchain-experimental) (1.33)\n",
            "Requirement already satisfied: packaging<25,>=23.2 in /usr/local/lib/python3.10/dist-packages (from langchain-core<0.4.0,>=0.3.28->langchain-experimental) (24.2)\n",
            "Requirement already satisfied: pydantic<3.0.0,>=2.5.2 in /usr/local/lib/python3.10/dist-packages (from langchain-core<0.4.0,>=0.3.28->langchain-experimental) (2.10.3)\n",
            "Requirement already satisfied: typing-extensions>=4.7 in /usr/local/lib/python3.10/dist-packages (from langchain-core<0.4.0,>=0.3.28->langchain-experimental) (4.12.2)\n",
            "Requirement already satisfied: aiohappyeyeballs>=2.3.0 in /usr/local/lib/python3.10/dist-packages (from aiohttp<4.0.0,>=3.8.3->langchain-community<0.4.0,>=0.3.0->langchain-experimental) (2.4.4)\n",
            "Requirement already satisfied: aiosignal>=1.1.2 in /usr/local/lib/python3.10/dist-packages (from aiohttp<4.0.0,>=3.8.3->langchain-community<0.4.0,>=0.3.0->langchain-experimental) (1.3.2)\n",
            "Requirement already satisfied: async-timeout<6.0,>=4.0 in /usr/local/lib/python3.10/dist-packages (from aiohttp<4.0.0,>=3.8.3->langchain-community<0.4.0,>=0.3.0->langchain-experimental) (4.0.3)\n",
            "Requirement already satisfied: attrs>=17.3.0 in /usr/local/lib/python3.10/dist-packages (from aiohttp<4.0.0,>=3.8.3->langchain-community<0.4.0,>=0.3.0->langchain-experimental) (24.3.0)\n",
            "Requirement already satisfied: frozenlist>=1.1.1 in /usr/local/lib/python3.10/dist-packages (from aiohttp<4.0.0,>=3.8.3->langchain-community<0.4.0,>=0.3.0->langchain-experimental) (1.5.0)\n",
            "Requirement already satisfied: multidict<7.0,>=4.5 in /usr/local/lib/python3.10/dist-packages (from aiohttp<4.0.0,>=3.8.3->langchain-community<0.4.0,>=0.3.0->langchain-experimental) (6.1.0)\n",
            "Requirement already satisfied: propcache>=0.2.0 in /usr/local/lib/python3.10/dist-packages (from aiohttp<4.0.0,>=3.8.3->langchain-community<0.4.0,>=0.3.0->langchain-experimental) (0.2.1)\n",
            "Requirement already satisfied: yarl<2.0,>=1.17.0 in /usr/local/lib/python3.10/dist-packages (from aiohttp<4.0.0,>=3.8.3->langchain-community<0.4.0,>=0.3.0->langchain-experimental) (1.18.3)\n",
            "Requirement already satisfied: marshmallow<4.0.0,>=3.18.0 in /usr/local/lib/python3.10/dist-packages (from dataclasses-json<0.7,>=0.5.7->langchain-community<0.4.0,>=0.3.0->langchain-experimental) (3.25.1)\n",
            "Requirement already satisfied: typing-inspect<1,>=0.4.0 in /usr/local/lib/python3.10/dist-packages (from dataclasses-json<0.7,>=0.5.7->langchain-community<0.4.0,>=0.3.0->langchain-experimental) (0.9.0)\n",
            "Requirement already satisfied: jsonpointer>=1.9 in /usr/local/lib/python3.10/dist-packages (from jsonpatch<2.0,>=1.33->langchain-core<0.4.0,>=0.3.28->langchain-experimental) (3.0.0)\n",
            "Requirement already satisfied: langchain-text-splitters<0.4.0,>=0.3.3 in /usr/local/lib/python3.10/dist-packages (from langchain<0.4.0,>=0.3.14->langchain-community<0.4.0,>=0.3.0->langchain-experimental) (0.3.3)\n",
            "Requirement already satisfied: httpx<1,>=0.23.0 in /usr/local/lib/python3.10/dist-packages (from langsmith<0.3,>=0.1.125->langchain-community<0.4.0,>=0.3.0->langchain-experimental) (0.28.1)\n",
            "Requirement already satisfied: orjson<4.0.0,>=3.9.14 in /usr/local/lib/python3.10/dist-packages (from langsmith<0.3,>=0.1.125->langchain-community<0.4.0,>=0.3.0->langchain-experimental) (3.10.12)\n",
            "Requirement already satisfied: requests-toolbelt<2.0.0,>=1.0.0 in /usr/local/lib/python3.10/dist-packages (from langsmith<0.3,>=0.1.125->langchain-community<0.4.0,>=0.3.0->langchain-experimental) (1.0.0)\n",
            "Requirement already satisfied: annotated-types>=0.6.0 in /usr/local/lib/python3.10/dist-packages (from pydantic<3.0.0,>=2.5.2->langchain-core<0.4.0,>=0.3.28->langchain-experimental) (0.7.0)\n",
            "Requirement already satisfied: pydantic-core==2.27.1 in /usr/local/lib/python3.10/dist-packages (from pydantic<3.0.0,>=2.5.2->langchain-core<0.4.0,>=0.3.28->langchain-experimental) (2.27.1)\n",
            "Requirement already satisfied: python-dotenv>=0.21.0 in /usr/local/lib/python3.10/dist-packages (from pydantic-settings<3.0.0,>=2.4.0->langchain-community<0.4.0,>=0.3.0->langchain-experimental) (1.0.1)\n",
            "Requirement already satisfied: charset-normalizer<4,>=2 in /usr/local/lib/python3.10/dist-packages (from requests<3,>=2->langchain-community<0.4.0,>=0.3.0->langchain-experimental) (3.4.0)\n",
            "Requirement already satisfied: idna<4,>=2.5 in /usr/local/lib/python3.10/dist-packages (from requests<3,>=2->langchain-community<0.4.0,>=0.3.0->langchain-experimental) (3.10)\n",
            "Requirement already satisfied: urllib3<3,>=1.21.1 in /usr/local/lib/python3.10/dist-packages (from requests<3,>=2->langchain-community<0.4.0,>=0.3.0->langchain-experimental) (2.2.3)\n",
            "Requirement already satisfied: certifi>=2017.4.17 in /usr/local/lib/python3.10/dist-packages (from requests<3,>=2->langchain-community<0.4.0,>=0.3.0->langchain-experimental) (2024.12.14)\n",
            "Requirement already satisfied: greenlet!=0.4.17 in /usr/local/lib/python3.10/dist-packages (from SQLAlchemy<3,>=1.4->langchain-community<0.4.0,>=0.3.0->langchain-experimental) (3.1.1)\n",
            "Requirement already satisfied: anyio in /usr/local/lib/python3.10/dist-packages (from httpx<1,>=0.23.0->langsmith<0.3,>=0.1.125->langchain-community<0.4.0,>=0.3.0->langchain-experimental) (3.7.1)\n",
            "Requirement already satisfied: httpcore==1.* in /usr/local/lib/python3.10/dist-packages (from httpx<1,>=0.23.0->langsmith<0.3,>=0.1.125->langchain-community<0.4.0,>=0.3.0->langchain-experimental) (1.0.7)\n",
            "Requirement already satisfied: h11<0.15,>=0.13 in /usr/local/lib/python3.10/dist-packages (from httpcore==1.*->httpx<1,>=0.23.0->langsmith<0.3,>=0.1.125->langchain-community<0.4.0,>=0.3.0->langchain-experimental) (0.14.0)\n",
            "Requirement already satisfied: mypy-extensions>=0.3.0 in /usr/local/lib/python3.10/dist-packages (from typing-inspect<1,>=0.4.0->dataclasses-json<0.7,>=0.5.7->langchain-community<0.4.0,>=0.3.0->langchain-experimental) (1.0.0)\n",
            "Requirement already satisfied: sniffio>=1.1 in /usr/local/lib/python3.10/dist-packages (from anyio->httpx<1,>=0.23.0->langsmith<0.3,>=0.1.125->langchain-community<0.4.0,>=0.3.0->langchain-experimental) (1.3.1)\n",
            "Requirement already satisfied: exceptiongroup in /usr/local/lib/python3.10/dist-packages (from anyio->httpx<1,>=0.23.0->langsmith<0.3,>=0.1.125->langchain-community<0.4.0,>=0.3.0->langchain-experimental) (1.2.2)\n",
            "Downloading langchain_experimental-0.3.4-py3-none-any.whl (209 kB)\n",
            "\u001b[2K   \u001b[90m━━━━━━━━━━━━━━━━━━━━━━━━━━━━━━━━━━━━━━━━\u001b[0m \u001b[32m209.2/209.2 kB\u001b[0m \u001b[31m5.9 MB/s\u001b[0m eta \u001b[36m0:00:00\u001b[0m\n",
            "\u001b[?25hInstalling collected packages: langchain-experimental\n",
            "Successfully installed langchain-experimental-0.3.4\n"
          ]
        }
      ]
    },
    {
      "cell_type": "code",
      "source": [
        "!pip install langchain-groq # Install the necessary package"
      ],
      "metadata": {
        "id": "JHdamIX9g9Wg",
        "colab": {
          "base_uri": "https://localhost:8080/"
        },
        "outputId": "2e67f1b3-1ec0-4b81-fbe3-75551b00a663"
      },
      "id": "JHdamIX9g9Wg",
      "execution_count": 8,
      "outputs": [
        {
          "output_type": "stream",
          "name": "stdout",
          "text": [
            "Collecting langchain-groq\n",
            "  Downloading langchain_groq-0.2.3-py3-none-any.whl.metadata (3.0 kB)\n",
            "Requirement already satisfied: groq<1,>=0.4.1 in /usr/local/lib/python3.10/dist-packages (from langchain-groq) (0.15.0)\n",
            "Requirement already satisfied: langchain-core<0.4.0,>=0.3.29 in /usr/local/lib/python3.10/dist-packages (from langchain-groq) (0.3.29)\n",
            "Requirement already satisfied: anyio<5,>=3.5.0 in /usr/local/lib/python3.10/dist-packages (from groq<1,>=0.4.1->langchain-groq) (3.7.1)\n",
            "Requirement already satisfied: distro<2,>=1.7.0 in /usr/local/lib/python3.10/dist-packages (from groq<1,>=0.4.1->langchain-groq) (1.9.0)\n",
            "Requirement already satisfied: httpx<1,>=0.23.0 in /usr/local/lib/python3.10/dist-packages (from groq<1,>=0.4.1->langchain-groq) (0.28.1)\n",
            "Requirement already satisfied: pydantic<3,>=1.9.0 in /usr/local/lib/python3.10/dist-packages (from groq<1,>=0.4.1->langchain-groq) (2.10.3)\n",
            "Requirement already satisfied: sniffio in /usr/local/lib/python3.10/dist-packages (from groq<1,>=0.4.1->langchain-groq) (1.3.1)\n",
            "Requirement already satisfied: typing-extensions<5,>=4.10 in /usr/local/lib/python3.10/dist-packages (from groq<1,>=0.4.1->langchain-groq) (4.12.2)\n",
            "Requirement already satisfied: PyYAML>=5.3 in /usr/local/lib/python3.10/dist-packages (from langchain-core<0.4.0,>=0.3.29->langchain-groq) (6.0.2)\n",
            "Requirement already satisfied: jsonpatch<2.0,>=1.33 in /usr/local/lib/python3.10/dist-packages (from langchain-core<0.4.0,>=0.3.29->langchain-groq) (1.33)\n",
            "Requirement already satisfied: langsmith<0.3,>=0.1.125 in /usr/local/lib/python3.10/dist-packages (from langchain-core<0.4.0,>=0.3.29->langchain-groq) (0.2.3)\n",
            "Requirement already satisfied: packaging<25,>=23.2 in /usr/local/lib/python3.10/dist-packages (from langchain-core<0.4.0,>=0.3.29->langchain-groq) (24.2)\n",
            "Requirement already satisfied: tenacity!=8.4.0,<10.0.0,>=8.1.0 in /usr/local/lib/python3.10/dist-packages (from langchain-core<0.4.0,>=0.3.29->langchain-groq) (9.0.0)\n",
            "Requirement already satisfied: idna>=2.8 in /usr/local/lib/python3.10/dist-packages (from anyio<5,>=3.5.0->groq<1,>=0.4.1->langchain-groq) (3.10)\n",
            "Requirement already satisfied: exceptiongroup in /usr/local/lib/python3.10/dist-packages (from anyio<5,>=3.5.0->groq<1,>=0.4.1->langchain-groq) (1.2.2)\n",
            "Requirement already satisfied: certifi in /usr/local/lib/python3.10/dist-packages (from httpx<1,>=0.23.0->groq<1,>=0.4.1->langchain-groq) (2024.12.14)\n",
            "Requirement already satisfied: httpcore==1.* in /usr/local/lib/python3.10/dist-packages (from httpx<1,>=0.23.0->groq<1,>=0.4.1->langchain-groq) (1.0.7)\n",
            "Requirement already satisfied: h11<0.15,>=0.13 in /usr/local/lib/python3.10/dist-packages (from httpcore==1.*->httpx<1,>=0.23.0->groq<1,>=0.4.1->langchain-groq) (0.14.0)\n",
            "Requirement already satisfied: jsonpointer>=1.9 in /usr/local/lib/python3.10/dist-packages (from jsonpatch<2.0,>=1.33->langchain-core<0.4.0,>=0.3.29->langchain-groq) (3.0.0)\n",
            "Requirement already satisfied: orjson<4.0.0,>=3.9.14 in /usr/local/lib/python3.10/dist-packages (from langsmith<0.3,>=0.1.125->langchain-core<0.4.0,>=0.3.29->langchain-groq) (3.10.12)\n",
            "Requirement already satisfied: requests<3,>=2 in /usr/local/lib/python3.10/dist-packages (from langsmith<0.3,>=0.1.125->langchain-core<0.4.0,>=0.3.29->langchain-groq) (2.32.3)\n",
            "Requirement already satisfied: requests-toolbelt<2.0.0,>=1.0.0 in /usr/local/lib/python3.10/dist-packages (from langsmith<0.3,>=0.1.125->langchain-core<0.4.0,>=0.3.29->langchain-groq) (1.0.0)\n",
            "Requirement already satisfied: annotated-types>=0.6.0 in /usr/local/lib/python3.10/dist-packages (from pydantic<3,>=1.9.0->groq<1,>=0.4.1->langchain-groq) (0.7.0)\n",
            "Requirement already satisfied: pydantic-core==2.27.1 in /usr/local/lib/python3.10/dist-packages (from pydantic<3,>=1.9.0->groq<1,>=0.4.1->langchain-groq) (2.27.1)\n",
            "Requirement already satisfied: charset-normalizer<4,>=2 in /usr/local/lib/python3.10/dist-packages (from requests<3,>=2->langsmith<0.3,>=0.1.125->langchain-core<0.4.0,>=0.3.29->langchain-groq) (3.4.0)\n",
            "Requirement already satisfied: urllib3<3,>=1.21.1 in /usr/local/lib/python3.10/dist-packages (from requests<3,>=2->langsmith<0.3,>=0.1.125->langchain-core<0.4.0,>=0.3.29->langchain-groq) (2.2.3)\n",
            "Downloading langchain_groq-0.2.3-py3-none-any.whl (14 kB)\n",
            "Installing collected packages: langchain-groq\n",
            "Successfully installed langchain-groq-0.2.3\n"
          ]
        }
      ]
    },
    {
      "cell_type": "code",
      "source": [
        "!pip install langchain # Make sure langchain is installed\n",
        "from langchain import PromptTemplate # Import PromptTemplate\n",
        "\n",
        "prompt_extract = PromptTemplate.from_template(\n",
        "        \"\"\"\n",
        "        ### SCRAPED TEXT FROM WEBSITE:\n",
        "        {page_data}\n",
        "        ### INSTRUCTION:\n",
        "        The scraped text is from the career's page of a website.\n",
        "        Your job is to extract the job postings and return them in JSON format containing the\n",
        "        following keys: `role`, `experience`, `skills` and `description`.\n",
        "        Only return the valid JSON.\n",
        "        ### VALID JSON (NO PREAMBLE):\n",
        "        \"\"\"\n",
        ")"
      ],
      "metadata": {
        "colab": {
          "base_uri": "https://localhost:8080/"
        },
        "id": "AtGcymc0rD7H",
        "outputId": "6bdc505f-4ac6-46f5-d568-429d123318b1"
      },
      "id": "AtGcymc0rD7H",
      "execution_count": 13,
      "outputs": [
        {
          "output_type": "stream",
          "name": "stdout",
          "text": [
            "Requirement already satisfied: langchain in /usr/local/lib/python3.10/dist-packages (0.3.14)\n",
            "Requirement already satisfied: PyYAML>=5.3 in /usr/local/lib/python3.10/dist-packages (from langchain) (6.0.2)\n",
            "Requirement already satisfied: SQLAlchemy<3,>=1.4 in /usr/local/lib/python3.10/dist-packages (from langchain) (2.0.36)\n",
            "Requirement already satisfied: aiohttp<4.0.0,>=3.8.3 in /usr/local/lib/python3.10/dist-packages (from langchain) (3.11.10)\n",
            "Requirement already satisfied: async-timeout<5.0.0,>=4.0.0 in /usr/local/lib/python3.10/dist-packages (from langchain) (4.0.3)\n",
            "Requirement already satisfied: langchain-core<0.4.0,>=0.3.29 in /usr/local/lib/python3.10/dist-packages (from langchain) (0.3.29)\n",
            "Requirement already satisfied: langchain-text-splitters<0.4.0,>=0.3.3 in /usr/local/lib/python3.10/dist-packages (from langchain) (0.3.3)\n",
            "Requirement already satisfied: langsmith<0.3,>=0.1.17 in /usr/local/lib/python3.10/dist-packages (from langchain) (0.2.3)\n",
            "Requirement already satisfied: numpy<2,>=1.22.4 in /usr/local/lib/python3.10/dist-packages (from langchain) (1.26.4)\n",
            "Requirement already satisfied: pydantic<3.0.0,>=2.7.4 in /usr/local/lib/python3.10/dist-packages (from langchain) (2.10.3)\n",
            "Requirement already satisfied: requests<3,>=2 in /usr/local/lib/python3.10/dist-packages (from langchain) (2.32.3)\n",
            "Requirement already satisfied: tenacity!=8.4.0,<10,>=8.1.0 in /usr/local/lib/python3.10/dist-packages (from langchain) (9.0.0)\n",
            "Requirement already satisfied: aiohappyeyeballs>=2.3.0 in /usr/local/lib/python3.10/dist-packages (from aiohttp<4.0.0,>=3.8.3->langchain) (2.4.4)\n",
            "Requirement already satisfied: aiosignal>=1.1.2 in /usr/local/lib/python3.10/dist-packages (from aiohttp<4.0.0,>=3.8.3->langchain) (1.3.2)\n",
            "Requirement already satisfied: attrs>=17.3.0 in /usr/local/lib/python3.10/dist-packages (from aiohttp<4.0.0,>=3.8.3->langchain) (24.3.0)\n",
            "Requirement already satisfied: frozenlist>=1.1.1 in /usr/local/lib/python3.10/dist-packages (from aiohttp<4.0.0,>=3.8.3->langchain) (1.5.0)\n",
            "Requirement already satisfied: multidict<7.0,>=4.5 in /usr/local/lib/python3.10/dist-packages (from aiohttp<4.0.0,>=3.8.3->langchain) (6.1.0)\n",
            "Requirement already satisfied: propcache>=0.2.0 in /usr/local/lib/python3.10/dist-packages (from aiohttp<4.0.0,>=3.8.3->langchain) (0.2.1)\n",
            "Requirement already satisfied: yarl<2.0,>=1.17.0 in /usr/local/lib/python3.10/dist-packages (from aiohttp<4.0.0,>=3.8.3->langchain) (1.18.3)\n",
            "Requirement already satisfied: jsonpatch<2.0,>=1.33 in /usr/local/lib/python3.10/dist-packages (from langchain-core<0.4.0,>=0.3.29->langchain) (1.33)\n",
            "Requirement already satisfied: packaging<25,>=23.2 in /usr/local/lib/python3.10/dist-packages (from langchain-core<0.4.0,>=0.3.29->langchain) (24.2)\n",
            "Requirement already satisfied: typing-extensions>=4.7 in /usr/local/lib/python3.10/dist-packages (from langchain-core<0.4.0,>=0.3.29->langchain) (4.12.2)\n",
            "Requirement already satisfied: httpx<1,>=0.23.0 in /usr/local/lib/python3.10/dist-packages (from langsmith<0.3,>=0.1.17->langchain) (0.28.1)\n",
            "Requirement already satisfied: orjson<4.0.0,>=3.9.14 in /usr/local/lib/python3.10/dist-packages (from langsmith<0.3,>=0.1.17->langchain) (3.10.12)\n",
            "Requirement already satisfied: requests-toolbelt<2.0.0,>=1.0.0 in /usr/local/lib/python3.10/dist-packages (from langsmith<0.3,>=0.1.17->langchain) (1.0.0)\n",
            "Requirement already satisfied: annotated-types>=0.6.0 in /usr/local/lib/python3.10/dist-packages (from pydantic<3.0.0,>=2.7.4->langchain) (0.7.0)\n",
            "Requirement already satisfied: pydantic-core==2.27.1 in /usr/local/lib/python3.10/dist-packages (from pydantic<3.0.0,>=2.7.4->langchain) (2.27.1)\n",
            "Requirement already satisfied: charset-normalizer<4,>=2 in /usr/local/lib/python3.10/dist-packages (from requests<3,>=2->langchain) (3.4.0)\n",
            "Requirement already satisfied: idna<4,>=2.5 in /usr/local/lib/python3.10/dist-packages (from requests<3,>=2->langchain) (3.10)\n",
            "Requirement already satisfied: urllib3<3,>=1.21.1 in /usr/local/lib/python3.10/dist-packages (from requests<3,>=2->langchain) (2.2.3)\n",
            "Requirement already satisfied: certifi>=2017.4.17 in /usr/local/lib/python3.10/dist-packages (from requests<3,>=2->langchain) (2024.12.14)\n",
            "Requirement already satisfied: greenlet!=0.4.17 in /usr/local/lib/python3.10/dist-packages (from SQLAlchemy<3,>=1.4->langchain) (3.1.1)\n",
            "Requirement already satisfied: anyio in /usr/local/lib/python3.10/dist-packages (from httpx<1,>=0.23.0->langsmith<0.3,>=0.1.17->langchain) (3.7.1)\n",
            "Requirement already satisfied: httpcore==1.* in /usr/local/lib/python3.10/dist-packages (from httpx<1,>=0.23.0->langsmith<0.3,>=0.1.17->langchain) (1.0.7)\n",
            "Requirement already satisfied: h11<0.15,>=0.13 in /usr/local/lib/python3.10/dist-packages (from httpcore==1.*->httpx<1,>=0.23.0->langsmith<0.3,>=0.1.17->langchain) (0.14.0)\n",
            "Requirement already satisfied: jsonpointer>=1.9 in /usr/local/lib/python3.10/dist-packages (from jsonpatch<2.0,>=1.33->langchain-core<0.4.0,>=0.3.29->langchain) (3.0.0)\n",
            "Requirement already satisfied: sniffio>=1.1 in /usr/local/lib/python3.10/dist-packages (from anyio->httpx<1,>=0.23.0->langsmith<0.3,>=0.1.17->langchain) (1.3.1)\n",
            "Requirement already satisfied: exceptiongroup in /usr/local/lib/python3.10/dist-packages (from anyio->httpx<1,>=0.23.0->langsmith<0.3,>=0.1.17->langchain) (1.2.2)\n"
          ]
        }
      ]
    },
    {
      "cell_type": "code",
      "source": [
        "import os\n",
        "\n",
        "from groq import Groq\n",
        "\n",
        "# Initialize the Groq client\n",
        "client = Groq(api_key='')\n",
        "\n",
        "chat_completion = client.chat.completions.create(\n",
        "    messages=[\n",
        "         {\n",
        "            \"role\": \"system\",\n",
        "            \"content\": \"how can i use string variable data in the prompt? explain with example. If the variable name is text_data and it has string data assigned to it. and I use the text_data variable in prompt\"\n",
        "        },\n",
        "         {\n",
        "            \"role\": \"system\",\n",
        "            \"content\": \"Information from career website is available  ${page_data}. Use the string data in the scraped text. It is job posting from the career's page of a website. Your job is to extract the job postings and return them in JSON format containing the following keys: `role`, `experience`, `skills` and `description`. Only return the valid JSON. ### VALID JSON (NO PREAMBLE):\"\n",
        "        },\n",
        "        {\n",
        "            \"role\": \"user\",\n",
        "            \"content\": \"### SCRAPED TEXT FROM WEBSITE: ${page_data} INSTRUCTION: The scraped text is from the career's page of a website. Your job is to extract the job postings and return them in JSON format containing the following keys: `role`, `experience`, `skills` and `description`. Only return the valid JSON.\",\n",
        "        }\n",
        "    ],\n",
        "    model=\"llama-3.1-8b-instant\",\n",
        ")\n",
        "\n",
        "print(chat_completion.choices[0].message.content)"
      ],
      "metadata": {
        "colab": {
          "base_uri": "https://localhost:8080/"
        },
        "id": "_Z0RcSciv7Hr",
        "outputId": "8019c26b-cb53-4069-c1e0-0f01ae3d4064"
      },
      "id": "_Z0RcSciv7Hr",
      "execution_count": 14,
      "outputs": [
        {
          "output_type": "stream",
          "name": "stdout",
          "text": [
            "**Using String Variable Data in Prompt**\n",
            "\n",
            "To use string variable data in a prompt, you can enclose the variable name in `${}` and the prompt function will extract the value of the variable and substitute it into the prompt string.\n",
            "\n",
            "Here's an example in Python:\n",
            "\n",
            "```python\n",
            "# Define a variable text_data with string data\n",
            "text_data = \"Job Title: Software Engineer\\nExperience: 5 Years\\nSkills: Python, Java, C++\\nDescription: Developing software applications for various industries.\"\n",
            "\n",
            "# Use the text_data variable in a prompt\n",
            "prompt = f\"\"\"\n",
            "Information from career website is available  {text_data}. Use this string data in the scraped text. It is job posting from the career's page of a website. Your job is to extract the job postings and return them in JSON format containing the following keys: `role`, `experience`, `skills` and `description`. Only return the valid JSON. ### VALID JSON (NO PREAMBLE):\n",
            "\"\"\"\n",
            "\n",
            "# Print the prompt\n",
            "print(prompt)\n",
            "\n",
            "# Extract the job posting from the scraped text using regular expressions\n",
            "import re\n",
            "\n",
            "role = re.search(r'Job Title: (.*)', text_data).group(1)\n",
            "experience = re.search(r'Experience: (.*)', text_data).group(1)\n",
            "skills = re.search(r'Skills: (.*)', text_data).group(1)\n",
            "description = re.search(r'Description: (.*)', text_data).group(1)\n",
            "\n",
            "# Print the extracted job posting\n",
            "print(f\"{{'role': '{role}', 'experience': '{experience}', 'skills': '{skills}', 'description': '{description}'}}\")\n",
            "```\n",
            "\n",
            "In this example, we define a `text_data` variable with a string containing the job posting details. We then use this variable in the prompt string using `${text_data}`. The prompt function substitutes the value of the `text_data` variable into the prompt string.\n",
            "\n",
            "The prompt indicates that we need to extract the job posting details from the scraped text and return them in JSON format. We use regular expressions to extract the `role`, `experience`, `skills`, and `description` details from the scraped text.\n",
            "\n",
            "Finally, we print out the extracted job posting in JSON format.\n",
            "\n",
            "This is a basic example of using string variable data in a prompt. You can modify it to fit your specific use case.\n"
          ]
        }
      ]
    },
    {
      "cell_type": "code",
      "source": [
        "import os\n",
        "\n",
        "from groq import Groq\n",
        "\n",
        "# Initialize the Groq client\n",
        "client = Groq(api_key='')\n",
        "\n",
        "chat_completion = client.chat.completions.create(\n",
        "    messages=[\n",
        "        {\n",
        "            \"role\": \"user\",  # Only role and content are expected for user message\n",
        "            \"content\": page_data, # Changed ${page_data} to page_data for variable substitution\n",
        "        },\n",
        "         {\n",
        "            \"role\": \"user\",  # Only role and content are expected for user message\n",
        "            \"content\": \"Your job is to extract the job postings and return them in JSON format containing the following keys: `role`, `experience`, `skills` and `description`. Only return the valid JSON.\", # Changed ${page_data} to page_data for variable substitutio\n",
        "        },\n",
        "        {\n",
        "            \"role\": \"user\",  # Only role and content are expected for user message\n",
        "            \"content\": \" ### INSTRUCTION: You are Mohan, a business development executive at AtliQ. AtliQ is an AI & Software Consulting company dedicated to facilitating the seamless integration of business processes through automated tools. Over our experience, we have empowered numerous enterprises with tailored solutions, fostering scalability, process optimization, cost reduction, and heightened overall efficiency. Your job is to write a cold email to the client regarding the job mentioned above describing the capability of AtliQ in fulfilling their needs. Also add the most relevant ones from the following links to showcase Atliq's portfolio: Remember you are Mohan, BDE at AtliQ. Do not provide a preamble. ### EMAIL (NO PREAMBLE):\",\n",
        "        }\n",
        "    ],\n",
        "    model=\"llama-3.1-8b-instant\",\n",
        ")\n",
        "res=chat_completion.choices[0].message\n",
        "print(chat_completion.choices[0].message.content)"
      ],
      "metadata": {
        "colab": {
          "base_uri": "https://localhost:8080/"
        },
        "id": "-mfVMEYG_t7N",
        "outputId": "e0b6540d-3cd9-4752-914e-f8e6459f73fb"
      },
      "id": "-mfVMEYG_t7N",
      "execution_count": 15,
      "outputs": [
        {
          "output_type": "stream",
          "name": "stdout",
          "text": [
            "Subject: Expert AI-powered Solutions for Your Business Needs - AtliQ\n",
            "\n",
            "Dear Hiring Manager at Nike,\n",
            "\n",
            "I came across the Data Engineer role you're looking to fill and I wanted to introduce you to AtliQ, a leading AI & Software Consulting company that can help you bridge the gap between technology and business processes. With our expertise in artificial intelligence, software development, and process automation, we've empowered numerous enterprises to drive scalability, process optimization, cost reduction, and overall efficiency.\n",
            "\n",
            "I was particularly drawn to your job posting for a Data Engineer, where you're looking for an individual with expertise in Python, SQL, Apache Hadoop, and other cutting-edge technologies. AtliQ has a proven track record of delivering high-impact solutions for clients like Siemens, Bosch, and Telefónica, showcasing our ability to meet complex technical requirements.\n",
            "\n",
            "Some of our notable projects include:\n",
            "\n",
            "* Developing an AI-powered predictive maintenance solution for a leading manufacturing client, resulting in a 20% reduction in maintenance costs and a 30% increase in equipment uptime.\n",
            "* Creating a cloud-based data warehouse for a global retail client, enabling real-time analytics and insights that drove a 25% increase in sales.\n",
            "* Implementing an automation framework for a large-scale enterprise, reducing processing time by 40% and increasing efficiency by 35%.\n",
            "\n",
            "These examples demonstrate AtliQ's expertise in leveraging AI and software solutions to drive business outcomes. We'd be thrilled to apply our capabilities to support your Data Engineer role and help you achieve your technical and business objectives.\n",
            "\n",
            "If you'd like to discuss further, I'd be more than happy to set up a call to explore how AtliQ can support your needs.\n",
            "\n",
            "Best regards,\n",
            "\n",
            "Mohan\n",
            "Business Development Executive\n",
            "AtliQ\n"
          ]
        }
      ]
    },
    {
      "cell_type": "code",
      "source": [],
      "metadata": {
        "id": "Bb5Iyc5WDHv-"
      },
      "id": "Bb5Iyc5WDHv-",
      "execution_count": null,
      "outputs": []
    },
    {
      "cell_type": "code",
      "source": [
        "print(page_data)"
      ],
      "metadata": {
        "colab": {
          "base_uri": "https://localhost:8080/"
        },
        "id": "rlW2aXpvpFtI",
        "outputId": "e22bdb0a-062b-46e9-f6c6-b451523a9775"
      },
      "id": "rlW2aXpvpFtI",
      "execution_count": 51,
      "outputs": [
        {
          "output_type": "stream",
          "name": "stdout",
          "text": [
            "Solliciteren voor Data Engineer\n",
            "\n",
            "Zoek vacaturesNavigatie overslaanZoek vacaturesNIKE, INC. JOBSFuncties op opdrachtbasisJoin The Talent CommunityLife @ NikeOverzichtArbeidsvoorwaardenMerkenOverzichtJordanConverseTeamsOverzichtAdministrative SupportAdvanced InnovationAir Manufacturing InnovationAviationCommunicationsCustomer ServiceDesignDigitalFaciliteitenFinance & AccountingGovernment & Public AffairsHuman ResourcesData & AnalyticsLegalManufacturing & EngineeringMarketingMerchandisingPlanningPrivacyProcurementProduct Creation, Development & ManagementRetail CorporateRetail StoresSalesSociale en community-impactSports MarketingStrategic PlanningSupply Chain, Distribution & LogisticsSustainabilityTechnologyLocatiesOverzichtNike WHQNike New York HQEHQ: Hilversum, NederlandELC: Laakdal, BelgiumGreater China HQDiversiteit, gelijkheid en inclusieOverzichtMilitairenBeperking en inclusieInclusie van Native AmericansStagesData & AnalyticsData EngineerBeaverton, OregonWord onderdeel van het NIKE, Inc. team\n",
            "NIKE, Inc. doet meer dan alleen de beste atleten ter wereld uitrusten. Ons bedrijf is een plek om volledig tot ontplooiing te komen, grenzen af te breken en het onmogelijke mogelijk te maken. Wij zoeken naar mensen die kunnen groeien, denken, dromen en creëren. Kenmerkend voor onze cultuur is dat we diversiteit omarmen en voorstellingsvermogen belonen. Als merk zoeken we naar presteerders, leiders en visionairs. Bij NIKE, Inc. draait het om iedereen die vaardigheden en passie met zich meebrengt naar dit uitdagende en voortdurend veranderende spel.Data Engineer - NIKE, Inc. - Beaverton, OR. Design and implement features in collaboration with product owners, data analysts, and business partners using Agile / Scrum methodology; contribute to overall architecture, frameworks and patterns for processing and storing large data volumes; design and implement distributed data processing pipelines using tools and languages prevalent in the Hadoop or Cloud ecosystems; build utilities, user defined functions, and frameworks to better enable data flow patterns; build and develop job orchestration and scheduling using Airflow; research, evaluate and utilize new technologies/tools/frameworks centered around high-volume data processing; define and apply appropriate data acquisition and consumption strategies for given technical scenarios; build and incorporate automated unit tests and participate in integration testing efforts; work with architecture/engineering leads and other teams to ensure quality solutions are implemented, and engineering best practices are defined and adhered to; and work across teams to resolve operational and performance issues. Telecommuting is available from anywhere in the U.S., except from AK, AL, AR, DE, HI, IA, ID, IN, KS, KY, LA, MT, ND, NE, NH, NM, NV, OH, OK, RI, SD, VT, WV, and WY.  Employer will accept a Bachelor’s degree in Computer Science or Information Technology and two (2) years of experience in the job offered or in an engineering-related occupation.   Experience must include the following:  Python SQL Apache Hadoop Apache Hive AWS Airflow Databricks Apache Spark Teradata Snowflake Kinesis Lamdba EMR  Apply at www.jobs.nike.com (Job #R-45775).#LI-DNIWe are committed to fostering a diverse and inclusive environment for all employees and job applicants. We offer a number of accommodations to complete our interview process including screen readers, sign language interpreters, accessible and single location for in-person interviews, closed captioning, and other reasonable modifications as needed. If you discover, as you navigate our application process, that you need assistance or an accommodation due to a disability, please complete the Candidate Accommodation Request Form.NIKE, Inc. is een sterk groeiend bedrijf dat zoekt naar teamleden die willen meegroeien. Nike biedt een aantrekkelijk pakket arbeidsvoorwaarden, een informele werkomgeving, een diverse en inclusieve cultuur en een dynamische sfeer waarin je jezelf optimaal kunt ontwikkelen. Ongeacht de locatie of functie resoneert elke Nike werknemer die ene overkoepelende missie: inspiratie en innovatie bieden aan elke atleet* ter wereld.NIKE, Inc. streeft naar diversiteit van het personeelsbestand. Gekwalificeerde sollicitanten komen in aanmerking, waarbij geen onderscheid wordt gemaakt naar ras, huidskleur, religie, geslacht, afkomst, leeftijd, seksuele geaardheid, genderidentiteit, genderexpressie, veteranenstatus of handicaps.Werving en selectieNIKE, Inc. belooft om iedere kandidaat een eersteklas, inclusieve, fascinerende en authentieke ervaring te bieden. Door deze belofte na te komen kunnen we ervoor zorgen dat je het beste uit jezelf kunt halen. Het is daarom van belang dat je begrijpt hoe het sollicitatieproces verloopt. Transparantie is cruciaal.\n",
            "\n",
            "* In dit overzicht wordt het sollicitatieproces voor zakelijke functies uitgelegd. Let op: Er kunnen andere stappen gelden bij het sollicitatieproces voor personeel in niet-zakelijke functies.Start nuArbeidsvoorwaardenOf het nu gaat om vervoer of om financiële gezondheid, wij blijven investeren in onze medewerkers om ze te helpen topperformance neer te zetten, zowel op het werk als daarbuiten. Iedereen die hier werkt, moet in staat zijn zich volledig te ontplooien.Ondersteuningsregeling voor medewerkersAandelenregeling voor medewerkersVakantiedagenZiektekostenregelingBetaald verlofProductkortingenSabbaticalsMeer infoCADEAUBONNENZOEK EEN STORENIKE JOURNALWORD MEMBERSTUDENTENKORTINGFEEDBACKPROMOTIECODESHELPHELPBestelstatusVerzending en leveringRetourzendingenBetaalmethodesContactNike promotiecodes hulpOVER NIKEOVER NIKENieuwsWerken bij NikeInvesteerdersDuurzaamheidNIKE APPSNIKE APPSNike AppNike Run ClubNike Training ClubSNKRSNederland© 2025 Nike, Inc. Alle rechten voorbehoudenHandleidingenNike AdaptNike FlyEaseNike FreeNike VaporflyNBA-fangearNike AirNike FlyknitNike PegasusNike Zoom FlyFactory StoreNike Air MaxNike FlyleatherNike ReactNike ZoomXNike AirtopiaAlgemene voorwaardenVerkoopvoorwaardenBedrijfsgegevensPrivacy- en cookiebeleidCookie-instellingen\n"
          ]
        }
      ]
    },
    {
      "cell_type": "code",
      "source": [
        "import re # Import the 're' module for regular expressions\n",
        "import json # Import the 'json' module\n",
        "\n",
        "jobs = re.findall(r'Job Title:</b>(.*?)\\n.*?Experience: (.*?)\\n.*?Description:', page_data, re.DOTALL)\n",
        "\n",
        "# Initialize list to store extracted job postings\n",
        "extracted_jobs = []\n",
        "\n",
        "for job in jobs:\n",
        "    role = job[0].strip()\n",
        "    experience = job[1].strip()\n",
        "    description = re.findall(r'Description:</b>(.*?)<br>', page_data, re.DOTALL)[0].strip()\n",
        "    skills = re.findall(r'Skills: - (.*?)\\n', page_data, re.DOTALL)[-1].strip() if re.search(r'Skills:', page_data) else ''\n",
        "    description = re.sub(r'<br>', '\\n', description)\n",
        "    description = re.sub(r'\\n+', '\\n', description)\n",
        "\n",
        "    extracted_jobs.append({\n",
        "        'role': role,\n",
        "        'experience': experience,\n",
        "        'skills': skills.split(' - ')[1:],\n",
        "        'description': description\n",
        "    })\n",
        "\n",
        "# Print extracted jobs in JSON format\n",
        "print(json.dumps(extracted_jobs, indent=4)) # Assuming 'json' is already imported in this cell"
      ],
      "metadata": {
        "colab": {
          "base_uri": "https://localhost:8080/"
        },
        "id": "8xLcgU0SrihF",
        "outputId": "e490efd9-51af-43bf-a1fa-3d1c095a5143"
      },
      "id": "8xLcgU0SrihF",
      "execution_count": 52,
      "outputs": [
        {
          "output_type": "stream",
          "name": "stdout",
          "text": [
            "[]\n"
          ]
        }
      ]
    },
    {
      "cell_type": "code",
      "source": [
        "from langchain import LLMChain\n",
        "from groq import Groq\n",
        "from langchain_groq import ChatGroq\n",
        "\n",
        "# Initialize the Groq client with just the api_key\n",
        "client = Groq(api_key='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')\n",
        "\n",
        "# Create a LangChain ChatGroq instance, passing the client and api_key\n",
        "llm = ChatGroq(\n",
        "\n",
        "    model_name=\"llama-3.1-70b-versatile\",\n",
        "    temperature=0,\n",
        "    groq_api_key='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' # Pass api_key here\n",
        ")\n",
        "\n",
        "# Create a LangChain LLMChain using the ChatGroq instance\n",
        "llm_chain = LLMChain(llm=llm, prompt=prompt_extract)\n",
        "\n",
        "# Now you can invoke the chain\n",
        "res = llm_chain.invoke({\"page_data\": page_data})\n",
        "type(res)"
      ],
      "metadata": {
        "colab": {
          "base_uri": "https://localhost:8080/"
        },
        "id": "Y2WCpf9jfdqT",
        "outputId": "5494208e-6859-43b5-d63e-0f4d7acc475e"
      },
      "id": "Y2WCpf9jfdqT",
      "execution_count": 55,
      "outputs": [
        {
          "output_type": "execute_result",
          "data": {
            "text/plain": [
              "dict"
            ]
          },
          "metadata": {},
          "execution_count": 55
        }
      ]
    },
    {
      "cell_type": "code",
      "source": [
        "print(res)"
      ],
      "metadata": {
        "colab": {
          "base_uri": "https://localhost:8080/"
        },
        "id": "6gxDaQrgfwaj",
        "outputId": "45a76d8a-4878-4d02-f377-9df0430501d2"
      },
      "id": "6gxDaQrgfwaj",
      "execution_count": 56,
      "outputs": [
        {
          "output_type": "stream",
          "name": "stdout",
          "text": [
            "{'page_data': 'Solliciteren voor Data Engineer\\n\\nZoek vacaturesNavigatie overslaanZoek vacaturesNIKE, INC. JOBSFuncties op opdrachtbasisJoin The Talent CommunityLife @ NikeOverzichtArbeidsvoorwaardenMerkenOverzichtJordanConverseTeamsOverzichtAdministrative SupportAdvanced InnovationAir Manufacturing InnovationAviationCommunicationsCustomer ServiceDesignDigitalFaciliteitenFinance & AccountingGovernment & Public AffairsHuman ResourcesData & AnalyticsLegalManufacturing & EngineeringMarketingMerchandisingPlanningPrivacyProcurementProduct Creation, Development & ManagementRetail CorporateRetail StoresSalesSociale en community-impactSports MarketingStrategic PlanningSupply Chain, Distribution & LogisticsSustainabilityTechnologyLocatiesOverzichtNike WHQNike New York HQEHQ: Hilversum, NederlandELC: Laakdal, BelgiumGreater China HQDiversiteit, gelijkheid en inclusieOverzichtMilitairenBeperking en inclusieInclusie van Native AmericansStagesData & AnalyticsData EngineerBeaverton, OregonWord onderdeel van het NIKE, Inc. team\\nNIKE, Inc. doet meer dan alleen de beste atleten ter wereld uitrusten. Ons bedrijf is een plek om volledig tot ontplooiing te komen, grenzen af te breken en het onmogelijke mogelijk te maken. Wij zoeken naar mensen die kunnen groeien, denken, dromen en creëren. Kenmerkend voor onze cultuur is dat we diversiteit omarmen en voorstellingsvermogen belonen. Als merk zoeken we naar presteerders, leiders en visionairs. Bij NIKE, Inc. draait het om iedereen die vaardigheden en passie met zich meebrengt naar dit uitdagende en voortdurend veranderende spel.Data Engineer - NIKE, Inc. - Beaverton, OR. Design and implement features in collaboration with product owners, data analysts, and business partners using Agile / Scrum methodology; contribute to overall architecture, frameworks and patterns for processing and storing large data volumes; design and implement distributed data processing pipelines using tools and languages prevalent in the Hadoop or Cloud ecosystems; build utilities, user defined functions, and frameworks to better enable data flow patterns; build and develop job orchestration and scheduling using Airflow; research, evaluate and utilize new technologies/tools/frameworks centered around high-volume data processing; define and apply appropriate data acquisition and consumption strategies for given technical scenarios; build and incorporate automated unit tests and participate in integration testing efforts; work with architecture/engineering leads and other teams to ensure quality solutions are implemented, and engineering best practices are defined and adhered to; and work across teams to resolve operational and performance issues. Telecommuting is available from anywhere in the U.S., except from AK, AL, AR, DE, HI, IA, ID, IN, KS, KY, LA, MT, ND, NE, NH, NM, NV, OH, OK, RI, SD, VT, WV, and WY.\\xa0\\xa0Employer will accept a Bachelor’s degree in Computer Science or Information Technology and two (2) years of experience in the job offered or in an engineering-related occupation. \\xa0\\xa0Experience must include the following:\\xa0\\xa0Python\\xa0SQL\\xa0Apache Hadoop\\xa0Apache Hive\\xa0AWS\\xa0Airflow\\xa0Databricks\\xa0Apache Spark\\xa0Teradata\\xa0Snowflake\\xa0Kinesis\\xa0Lamdba\\xa0EMR\\xa0\\xa0Apply at www.jobs.nike.com\\u202f(Job #R-45775).#LI-DNIWe are committed to fostering a diverse and inclusive environment for all employees and job applicants. We offer a number of accommodations to complete our interview process including screen readers, sign language interpreters, accessible and single location for in-person interviews, closed captioning, and other reasonable modifications as needed. If you discover, as you navigate our application process, that you need assistance or an accommodation due to a disability, please complete the Candidate Accommodation Request Form.NIKE, Inc. is een sterk groeiend bedrijf dat zoekt naar teamleden die willen meegroeien. Nike biedt een aantrekkelijk pakket arbeidsvoorwaarden, een informele werkomgeving, een diverse en inclusieve cultuur en een dynamische sfeer waarin je jezelf optimaal kunt ontwikkelen. Ongeacht de locatie of functie resoneert elke Nike werknemer die ene overkoepelende missie: inspiratie en innovatie bieden aan elke atleet* ter wereld.NIKE, Inc. streeft naar diversiteit van het personeelsbestand. Gekwalificeerde sollicitanten komen in aanmerking, waarbij geen onderscheid wordt gemaakt naar ras, huidskleur, religie, geslacht, afkomst, leeftijd, seksuele geaardheid, genderidentiteit, genderexpressie, veteranenstatus of handicaps.Werving en selectieNIKE, Inc. belooft om iedere kandidaat een eersteklas, inclusieve, fascinerende en authentieke ervaring te bieden. Door deze belofte na te komen kunnen we ervoor zorgen dat je het beste uit jezelf kunt halen. Het is daarom van belang dat je begrijpt hoe het sollicitatieproces verloopt. Transparantie is cruciaal.\\n\\n* In dit overzicht wordt het sollicitatieproces voor zakelijke functies uitgelegd. Let op: Er kunnen andere stappen gelden bij het sollicitatieproces voor personeel in niet-zakelijke functies.Start nuArbeidsvoorwaardenOf het nu gaat om vervoer of om financiële gezondheid, wij blijven investeren in onze medewerkers om ze te helpen topperformance neer te zetten, zowel op het werk als daarbuiten. Iedereen die hier werkt, moet in staat zijn zich volledig te ontplooien.Ondersteuningsregeling voor medewerkersAandelenregeling voor medewerkersVakantiedagenZiektekostenregelingBetaald verlofProductkortingenSabbaticalsMeer infoCADEAUBONNENZOEK EEN STORENIKE JOURNALWORD MEMBERSTUDENTENKORTINGFEEDBACKPROMOTIECODESHELPHELPBestelstatusVerzending en leveringRetourzendingenBetaalmethodesContactNike promotiecodes hulpOVER NIKEOVER NIKENieuwsWerken bij NikeInvesteerdersDuurzaamheidNIKE APPSNIKE APPSNike AppNike Run ClubNike Training ClubSNKRSNederland© 2025 Nike, Inc. Alle rechten voorbehoudenHandleidingenNike AdaptNike FlyEaseNike FreeNike VaporflyNBA-fangearNike AirNike FlyknitNike PegasusNike Zoom FlyFactory StoreNike Air MaxNike FlyleatherNike ReactNike ZoomXNike AirtopiaAlgemene voorwaardenVerkoopvoorwaardenBedrijfsgegevensPrivacy- en cookiebeleidCookie-instellingen', 'text': '```json\\n{\\n  \"role\": \"Data Engineer\",\\n  \"experience\": \"2 years\",\\n  \"skills\": [\\n    \"Python\",\\n    \"SQL\",\\n    \"Apache Hadoop\",\\n    \"Apache Hive\",\\n    \"AWS\",\\n    \"Airflow\",\\n    \"Databricks\",\\n    \"Apache Spark\",\\n    \"Teradata\",\\n    \"Snowflake\",\\n    \"Kinesis\",\\n    \"Lambda\",\\n    \"EMR\"\\n  ],\\n  \"description\": \"Design and implement features in collaboration with product owners, data analysts, and business partners using Agile / Scrum methodology; contribute to overall architecture, frameworks and patterns for processing and storing large data volumes; design and implement distributed data processing pipelines using tools and languages prevalent in the Hadoop or Cloud ecosystems; build utilities, user defined functions, and frameworks to better enable data flow patterns; build and develop job orchestration and scheduling using Airflow; research, evaluate and utilize new technologies/tools/frameworks centered around high-volume data processing; define and apply appropriate data acquisition and consumption strategies for given technical scenarios; build and incorporate automated unit tests and participate in integration testing efforts; work with architecture/engineering leads and other teams to ensure quality solutions are implemented, and engineering best practices are defined and adhered to; and work across teams to resolve operational and performance issues.\"\\n}\\n```'}\n"
          ]
        }
      ]
    },
    {
      "cell_type": "code",
      "source": [
        "print(res['text'])"
      ],
      "metadata": {
        "colab": {
          "base_uri": "https://localhost:8080/"
        },
        "id": "VW1dw_65fwRL",
        "outputId": "e57dbe24-a423-47cd-f8ab-b69fc8753500"
      },
      "id": "VW1dw_65fwRL",
      "execution_count": 57,
      "outputs": [
        {
          "output_type": "stream",
          "name": "stdout",
          "text": [
            "```json\n",
            "{\n",
            "  \"role\": \"Data Engineer\",\n",
            "  \"experience\": \"2 years\",\n",
            "  \"skills\": [\n",
            "    \"Python\",\n",
            "    \"SQL\",\n",
            "    \"Apache Hadoop\",\n",
            "    \"Apache Hive\",\n",
            "    \"AWS\",\n",
            "    \"Airflow\",\n",
            "    \"Databricks\",\n",
            "    \"Apache Spark\",\n",
            "    \"Teradata\",\n",
            "    \"Snowflake\",\n",
            "    \"Kinesis\",\n",
            "    \"Lambda\",\n",
            "    \"EMR\"\n",
            "  ],\n",
            "  \"description\": \"Design and implement features in collaboration with product owners, data analysts, and business partners using Agile / Scrum methodology; contribute to overall architecture, frameworks and patterns for processing and storing large data volumes; design and implement distributed data processing pipelines using tools and languages prevalent in the Hadoop or Cloud ecosystems; build utilities, user defined functions, and frameworks to better enable data flow patterns; build and develop job orchestration and scheduling using Airflow; research, evaluate and utilize new technologies/tools/frameworks centered around high-volume data processing; define and apply appropriate data acquisition and consumption strategies for given technical scenarios; build and incorporate automated unit tests and participate in integration testing efforts; work with architecture/engineering leads and other teams to ensure quality solutions are implemented, and engineering best practices are defined and adhered to; and work across teams to resolve operational and performance issues.\"\n",
            "}\n",
            "```\n"
          ]
        }
      ]
    },
    {
      "cell_type": "code",
      "execution_count": 59,
      "id": "5415fd54",
      "metadata": {
        "colab": {
          "base_uri": "https://localhost:8080/"
        },
        "id": "5415fd54",
        "outputId": "edbb4dc8-0973-4b2a-9f60-9ee331040060"
      },
      "outputs": [
        {
          "output_type": "execute_result",
          "data": {
            "text/plain": [
              "{'role': 'Data Engineer',\n",
              " 'experience': '2 years',\n",
              " 'skills': ['Python',\n",
              "  'SQL',\n",
              "  'Apache Hadoop',\n",
              "  'Apache Hive',\n",
              "  'AWS',\n",
              "  'Airflow',\n",
              "  'Databricks',\n",
              "  'Apache Spark',\n",
              "  'Teradata',\n",
              "  'Snowflake',\n",
              "  'Kinesis',\n",
              "  'Lambda',\n",
              "  'EMR'],\n",
              " 'description': 'Design and implement features in collaboration with product owners, data analysts, and business partners using Agile / Scrum methodology; contribute to overall architecture, frameworks and patterns for processing and storing large data volumes; design and implement distributed data processing pipelines using tools and languages prevalent in the Hadoop or Cloud ecosystems; build utilities, user defined functions, and frameworks to better enable data flow patterns; build and develop job orchestration and scheduling using Airflow; research, evaluate and utilize new technologies/tools/frameworks centered around high-volume data processing; define and apply appropriate data acquisition and consumption strategies for given technical scenarios; build and incorporate automated unit tests and participate in integration testing efforts; work with architecture/engineering leads and other teams to ensure quality solutions are implemented, and engineering best practices are defined and adhered to; and work across teams to resolve operational and performance issues.'}"
            ]
          },
          "metadata": {},
          "execution_count": 59
        }
      ],
      "source": [
        "from langchain_core.output_parsers import JsonOutputParser\n",
        "\n",
        "json_parser = JsonOutputParser()\n",
        "json_res = json_parser.parse(res['text'])\n",
        "json_res"
      ]
    },
    {
      "cell_type": "code",
      "execution_count": 60,
      "id": "1e8a0f74",
      "metadata": {
        "id": "1e8a0f74",
        "outputId": "094df41d-2eb4-4224-886d-7607391ef8cd",
        "colab": {
          "base_uri": "https://localhost:8080/",
          "height": 676
        }
      },
      "outputs": [
        {
          "output_type": "execute_result",
          "data": {
            "text/plain": [
              "                               Techstack  \\\n",
              "0                React, Node.js, MongoDB   \n",
              "1               Angular,.NET, SQL Server   \n",
              "2      Vue.js, Ruby on Rails, PostgreSQL   \n",
              "3                  Python, Django, MySQL   \n",
              "4              Java, Spring Boot, Oracle   \n",
              "5             Flutter, Firebase, GraphQL   \n",
              "6                  WordPress, PHP, MySQL   \n",
              "7                    Magento, PHP, MySQL   \n",
              "8         React Native, Node.js, MongoDB   \n",
              "9                  iOS, Swift, Core Data   \n",
              "10       Android, Java, Room Persistence   \n",
              "11             Kotlin, Android, Firebase   \n",
              "12       Android TV, Kotlin, Android NDK   \n",
              "13                     iOS, Swift, ARKit   \n",
              "14        Cross-platform, Xamarin, Azure   \n",
              "15          Backend, Kotlin, Spring Boot   \n",
              "16         Frontend, TypeScript, Angular   \n",
              "17    Full-stack, JavaScript, Express.js   \n",
              "18  Machine Learning, Python, TensorFlow   \n",
              "19               DevOps, Jenkins, Docker   \n",
              "\n",
              "                                                Links  \n",
              "0                 https://example.com/react-portfolio  \n",
              "1               https://example.com/angular-portfolio  \n",
              "2                   https://example.com/vue-portfolio  \n",
              "3                https://example.com/python-portfolio  \n",
              "4                  https://example.com/java-portfolio  \n",
              "5               https://example.com/flutter-portfolio  \n",
              "6             https://example.com/wordpress-portfolio  \n",
              "7               https://example.com/magento-portfolio  \n",
              "8          https://example.com/react-native-portfolio  \n",
              "9                   https://example.com/ios-portfolio  \n",
              "10              https://example.com/android-portfolio  \n",
              "11       https://example.com/kotlin-android-portfolio  \n",
              "12           https://example.com/android-tv-portfolio  \n",
              "13               https://example.com/ios-ar-portfolio  \n",
              "14              https://example.com/xamarin-portfolio  \n",
              "15       https://example.com/kotlin-backend-portfolio  \n",
              "16  https://example.com/typescript-frontend-portfolio  \n",
              "17        https://example.com/full-stack-js-portfolio  \n",
              "18            https://example.com/ml-python-portfolio  \n",
              "19               https://example.com/devops-portfolio  "
            ],
            "text/html": [
              "\n",
              "  <div id=\"df-52f1a7d4-651f-491f-9e9e-4a4f6163631f\" class=\"colab-df-container\">\n",
              "    <div>\n",
              "<style scoped>\n",
              "    .dataframe tbody tr th:only-of-type {\n",
              "        vertical-align: middle;\n",
              "    }\n",
              "\n",
              "    .dataframe tbody tr th {\n",
              "        vertical-align: top;\n",
              "    }\n",
              "\n",
              "    .dataframe thead th {\n",
              "        text-align: right;\n",
              "    }\n",
              "</style>\n",
              "<table border=\"1\" class=\"dataframe\">\n",
              "  <thead>\n",
              "    <tr style=\"text-align: right;\">\n",
              "      <th></th>\n",
              "      <th>Techstack</th>\n",
              "      <th>Links</th>\n",
              "    </tr>\n",
              "  </thead>\n",
              "  <tbody>\n",
              "    <tr>\n",
              "      <th>0</th>\n",
              "      <td>React, Node.js, MongoDB</td>\n",
              "      <td>https://example.com/react-portfolio</td>\n",
              "    </tr>\n",
              "    <tr>\n",
              "      <th>1</th>\n",
              "      <td>Angular,.NET, SQL Server</td>\n",
              "      <td>https://example.com/angular-portfolio</td>\n",
              "    </tr>\n",
              "    <tr>\n",
              "      <th>2</th>\n",
              "      <td>Vue.js, Ruby on Rails, PostgreSQL</td>\n",
              "      <td>https://example.com/vue-portfolio</td>\n",
              "    </tr>\n",
              "    <tr>\n",
              "      <th>3</th>\n",
              "      <td>Python, Django, MySQL</td>\n",
              "      <td>https://example.com/python-portfolio</td>\n",
              "    </tr>\n",
              "    <tr>\n",
              "      <th>4</th>\n",
              "      <td>Java, Spring Boot, Oracle</td>\n",
              "      <td>https://example.com/java-portfolio</td>\n",
              "    </tr>\n",
              "    <tr>\n",
              "      <th>5</th>\n",
              "      <td>Flutter, Firebase, GraphQL</td>\n",
              "      <td>https://example.com/flutter-portfolio</td>\n",
              "    </tr>\n",
              "    <tr>\n",
              "      <th>6</th>\n",
              "      <td>WordPress, PHP, MySQL</td>\n",
              "      <td>https://example.com/wordpress-portfolio</td>\n",
              "    </tr>\n",
              "    <tr>\n",
              "      <th>7</th>\n",
              "      <td>Magento, PHP, MySQL</td>\n",
              "      <td>https://example.com/magento-portfolio</td>\n",
              "    </tr>\n",
              "    <tr>\n",
              "      <th>8</th>\n",
              "      <td>React Native, Node.js, MongoDB</td>\n",
              "      <td>https://example.com/react-native-portfolio</td>\n",
              "    </tr>\n",
              "    <tr>\n",
              "      <th>9</th>\n",
              "      <td>iOS, Swift, Core Data</td>\n",
              "      <td>https://example.com/ios-portfolio</td>\n",
              "    </tr>\n",
              "    <tr>\n",
              "      <th>10</th>\n",
              "      <td>Android, Java, Room Persistence</td>\n",
              "      <td>https://example.com/android-portfolio</td>\n",
              "    </tr>\n",
              "    <tr>\n",
              "      <th>11</th>\n",
              "      <td>Kotlin, Android, Firebase</td>\n",
              "      <td>https://example.com/kotlin-android-portfolio</td>\n",
              "    </tr>\n",
              "    <tr>\n",
              "      <th>12</th>\n",
              "      <td>Android TV, Kotlin, Android NDK</td>\n",
              "      <td>https://example.com/android-tv-portfolio</td>\n",
              "    </tr>\n",
              "    <tr>\n",
              "      <th>13</th>\n",
              "      <td>iOS, Swift, ARKit</td>\n",
              "      <td>https://example.com/ios-ar-portfolio</td>\n",
              "    </tr>\n",
              "    <tr>\n",
              "      <th>14</th>\n",
              "      <td>Cross-platform, Xamarin, Azure</td>\n",
              "      <td>https://example.com/xamarin-portfolio</td>\n",
              "    </tr>\n",
              "    <tr>\n",
              "      <th>15</th>\n",
              "      <td>Backend, Kotlin, Spring Boot</td>\n",
              "      <td>https://example.com/kotlin-backend-portfolio</td>\n",
              "    </tr>\n",
              "    <tr>\n",
              "      <th>16</th>\n",
              "      <td>Frontend, TypeScript, Angular</td>\n",
              "      <td>https://example.com/typescript-frontend-portfolio</td>\n",
              "    </tr>\n",
              "    <tr>\n",
              "      <th>17</th>\n",
              "      <td>Full-stack, JavaScript, Express.js</td>\n",
              "      <td>https://example.com/full-stack-js-portfolio</td>\n",
              "    </tr>\n",
              "    <tr>\n",
              "      <th>18</th>\n",
              "      <td>Machine Learning, Python, TensorFlow</td>\n",
              "      <td>https://example.com/ml-python-portfolio</td>\n",
              "    </tr>\n",
              "    <tr>\n",
              "      <th>19</th>\n",
              "      <td>DevOps, Jenkins, Docker</td>\n",
              "      <td>https://example.com/devops-portfolio</td>\n",
              "    </tr>\n",
              "  </tbody>\n",
              "</table>\n",
              "</div>\n",
              "    <div class=\"colab-df-buttons\">\n",
              "\n",
              "  <div class=\"colab-df-container\">\n",
              "    <button class=\"colab-df-convert\" onclick=\"convertToInteractive('df-52f1a7d4-651f-491f-9e9e-4a4f6163631f')\"\n",
              "            title=\"Convert this dataframe to an interactive table.\"\n",
              "            style=\"display:none;\">\n",
              "\n",
              "  <svg xmlns=\"http://www.w3.org/2000/svg\" height=\"24px\" viewBox=\"0 -960 960 960\">\n",
              "    <path d=\"M120-120v-720h720v720H120Zm60-500h600v-160H180v160Zm220 220h160v-160H400v160Zm0 220h160v-160H400v160ZM180-400h160v-160H180v160Zm440 0h160v-160H620v160ZM180-180h160v-160H180v160Zm440 0h160v-160H620v160Z\"/>\n",
              "  </svg>\n",
              "    </button>\n",
              "\n",
              "  <style>\n",
              "    .colab-df-container {\n",
              "      display:flex;\n",
              "      gap: 12px;\n",
              "    }\n",
              "\n",
              "    .colab-df-convert {\n",
              "      background-color: #E8F0FE;\n",
              "      border: none;\n",
              "      border-radius: 50%;\n",
              "      cursor: pointer;\n",
              "      display: none;\n",
              "      fill: #1967D2;\n",
              "      height: 32px;\n",
              "      padding: 0 0 0 0;\n",
              "      width: 32px;\n",
              "    }\n",
              "\n",
              "    .colab-df-convert:hover {\n",
              "      background-color: #E2EBFA;\n",
              "      box-shadow: 0px 1px 2px rgba(60, 64, 67, 0.3), 0px 1px 3px 1px rgba(60, 64, 67, 0.15);\n",
              "      fill: #174EA6;\n",
              "    }\n",
              "\n",
              "    .colab-df-buttons div {\n",
              "      margin-bottom: 4px;\n",
              "    }\n",
              "\n",
              "    [theme=dark] .colab-df-convert {\n",
              "      background-color: #3B4455;\n",
              "      fill: #D2E3FC;\n",
              "    }\n",
              "\n",
              "    [theme=dark] .colab-df-convert:hover {\n",
              "      background-color: #434B5C;\n",
              "      box-shadow: 0px 1px 3px 1px rgba(0, 0, 0, 0.15);\n",
              "      filter: drop-shadow(0px 1px 2px rgba(0, 0, 0, 0.3));\n",
              "      fill: #FFFFFF;\n",
              "    }\n",
              "  </style>\n",
              "\n",
              "    <script>\n",
              "      const buttonEl =\n",
              "        document.querySelector('#df-52f1a7d4-651f-491f-9e9e-4a4f6163631f button.colab-df-convert');\n",
              "      buttonEl.style.display =\n",
              "        google.colab.kernel.accessAllowed ? 'block' : 'none';\n",
              "\n",
              "      async function convertToInteractive(key) {\n",
              "        const element = document.querySelector('#df-52f1a7d4-651f-491f-9e9e-4a4f6163631f');\n",
              "        const dataTable =\n",
              "          await google.colab.kernel.invokeFunction('convertToInteractive',\n",
              "                                                    [key], {});\n",
              "        if (!dataTable) return;\n",
              "\n",
              "        const docLinkHtml = 'Like what you see? Visit the ' +\n",
              "          '<a target=\"_blank\" href=https://colab.research.google.com/notebooks/data_table.ipynb>data table notebook</a>'\n",
              "          + ' to learn more about interactive tables.';\n",
              "        element.innerHTML = '';\n",
              "        dataTable['output_type'] = 'display_data';\n",
              "        await google.colab.output.renderOutput(dataTable, element);\n",
              "        const docLink = document.createElement('div');\n",
              "        docLink.innerHTML = docLinkHtml;\n",
              "        element.appendChild(docLink);\n",
              "      }\n",
              "    </script>\n",
              "  </div>\n",
              "\n",
              "\n",
              "<div id=\"df-4f96f612-e979-48e2-82c5-6cc85a46b1e8\">\n",
              "  <button class=\"colab-df-quickchart\" onclick=\"quickchart('df-4f96f612-e979-48e2-82c5-6cc85a46b1e8')\"\n",
              "            title=\"Suggest charts\"\n",
              "            style=\"display:none;\">\n",
              "\n",
              "<svg xmlns=\"http://www.w3.org/2000/svg\" height=\"24px\"viewBox=\"0 0 24 24\"\n",
              "     width=\"24px\">\n",
              "    <g>\n",
              "        <path d=\"M19 3H5c-1.1 0-2 .9-2 2v14c0 1.1.9 2 2 2h14c1.1 0 2-.9 2-2V5c0-1.1-.9-2-2-2zM9 17H7v-7h2v7zm4 0h-2V7h2v10zm4 0h-2v-4h2v4z\"/>\n",
              "    </g>\n",
              "</svg>\n",
              "  </button>\n",
              "\n",
              "<style>\n",
              "  .colab-df-quickchart {\n",
              "      --bg-color: #E8F0FE;\n",
              "      --fill-color: #1967D2;\n",
              "      --hover-bg-color: #E2EBFA;\n",
              "      --hover-fill-color: #174EA6;\n",
              "      --disabled-fill-color: #AAA;\n",
              "      --disabled-bg-color: #DDD;\n",
              "  }\n",
              "\n",
              "  [theme=dark] .colab-df-quickchart {\n",
              "      --bg-color: #3B4455;\n",
              "      --fill-color: #D2E3FC;\n",
              "      --hover-bg-color: #434B5C;\n",
              "      --hover-fill-color: #FFFFFF;\n",
              "      --disabled-bg-color: #3B4455;\n",
              "      --disabled-fill-color: #666;\n",
              "  }\n",
              "\n",
              "  .colab-df-quickchart {\n",
              "    background-color: var(--bg-color);\n",
              "    border: none;\n",
              "    border-radius: 50%;\n",
              "    cursor: pointer;\n",
              "    display: none;\n",
              "    fill: var(--fill-color);\n",
              "    height: 32px;\n",
              "    padding: 0;\n",
              "    width: 32px;\n",
              "  }\n",
              "\n",
              "  .colab-df-quickchart:hover {\n",
              "    background-color: var(--hover-bg-color);\n",
              "    box-shadow: 0 1px 2px rgba(60, 64, 67, 0.3), 0 1px 3px 1px rgba(60, 64, 67, 0.15);\n",
              "    fill: var(--button-hover-fill-color);\n",
              "  }\n",
              "\n",
              "  .colab-df-quickchart-complete:disabled,\n",
              "  .colab-df-quickchart-complete:disabled:hover {\n",
              "    background-color: var(--disabled-bg-color);\n",
              "    fill: var(--disabled-fill-color);\n",
              "    box-shadow: none;\n",
              "  }\n",
              "\n",
              "  .colab-df-spinner {\n",
              "    border: 2px solid var(--fill-color);\n",
              "    border-color: transparent;\n",
              "    border-bottom-color: var(--fill-color);\n",
              "    animation:\n",
              "      spin 1s steps(1) infinite;\n",
              "  }\n",
              "\n",
              "  @keyframes spin {\n",
              "    0% {\n",
              "      border-color: transparent;\n",
              "      border-bottom-color: var(--fill-color);\n",
              "      border-left-color: var(--fill-color);\n",
              "    }\n",
              "    20% {\n",
              "      border-color: transparent;\n",
              "      border-left-color: var(--fill-color);\n",
              "      border-top-color: var(--fill-color);\n",
              "    }\n",
              "    30% {\n",
              "      border-color: transparent;\n",
              "      border-left-color: var(--fill-color);\n",
              "      border-top-color: var(--fill-color);\n",
              "      border-right-color: var(--fill-color);\n",
              "    }\n",
              "    40% {\n",
              "      border-color: transparent;\n",
              "      border-right-color: var(--fill-color);\n",
              "      border-top-color: var(--fill-color);\n",
              "    }\n",
              "    60% {\n",
              "      border-color: transparent;\n",
              "      border-right-color: var(--fill-color);\n",
              "    }\n",
              "    80% {\n",
              "      border-color: transparent;\n",
              "      border-right-color: var(--fill-color);\n",
              "      border-bottom-color: var(--fill-color);\n",
              "    }\n",
              "    90% {\n",
              "      border-color: transparent;\n",
              "      border-bottom-color: var(--fill-color);\n",
              "    }\n",
              "  }\n",
              "</style>\n",
              "\n",
              "  <script>\n",
              "    async function quickchart(key) {\n",
              "      const quickchartButtonEl =\n",
              "        document.querySelector('#' + key + ' button');\n",
              "      quickchartButtonEl.disabled = true;  // To prevent multiple clicks.\n",
              "      quickchartButtonEl.classList.add('colab-df-spinner');\n",
              "      try {\n",
              "        const charts = await google.colab.kernel.invokeFunction(\n",
              "            'suggestCharts', [key], {});\n",
              "      } catch (error) {\n",
              "        console.error('Error during call to suggestCharts:', error);\n",
              "      }\n",
              "      quickchartButtonEl.classList.remove('colab-df-spinner');\n",
              "      quickchartButtonEl.classList.add('colab-df-quickchart-complete');\n",
              "    }\n",
              "    (() => {\n",
              "      let quickchartButtonEl =\n",
              "        document.querySelector('#df-4f96f612-e979-48e2-82c5-6cc85a46b1e8 button');\n",
              "      quickchartButtonEl.style.display =\n",
              "        google.colab.kernel.accessAllowed ? 'block' : 'none';\n",
              "    })();\n",
              "  </script>\n",
              "</div>\n",
              "\n",
              "  <div id=\"id_63ef8e1c-591a-48f8-a154-69195bd7b09d\">\n",
              "    <style>\n",
              "      .colab-df-generate {\n",
              "        background-color: #E8F0FE;\n",
              "        border: none;\n",
              "        border-radius: 50%;\n",
              "        cursor: pointer;\n",
              "        display: none;\n",
              "        fill: #1967D2;\n",
              "        height: 32px;\n",
              "        padding: 0 0 0 0;\n",
              "        width: 32px;\n",
              "      }\n",
              "\n",
              "      .colab-df-generate:hover {\n",
              "        background-color: #E2EBFA;\n",
              "        box-shadow: 0px 1px 2px rgba(60, 64, 67, 0.3), 0px 1px 3px 1px rgba(60, 64, 67, 0.15);\n",
              "        fill: #174EA6;\n",
              "      }\n",
              "\n",
              "      [theme=dark] .colab-df-generate {\n",
              "        background-color: #3B4455;\n",
              "        fill: #D2E3FC;\n",
              "      }\n",
              "\n",
              "      [theme=dark] .colab-df-generate:hover {\n",
              "        background-color: #434B5C;\n",
              "        box-shadow: 0px 1px 3px 1px rgba(0, 0, 0, 0.15);\n",
              "        filter: drop-shadow(0px 1px 2px rgba(0, 0, 0, 0.3));\n",
              "        fill: #FFFFFF;\n",
              "      }\n",
              "    </style>\n",
              "    <button class=\"colab-df-generate\" onclick=\"generateWithVariable('df')\"\n",
              "            title=\"Generate code using this dataframe.\"\n",
              "            style=\"display:none;\">\n",
              "\n",
              "  <svg xmlns=\"http://www.w3.org/2000/svg\" height=\"24px\"viewBox=\"0 0 24 24\"\n",
              "       width=\"24px\">\n",
              "    <path d=\"M7,19H8.4L18.45,9,17,7.55,7,17.6ZM5,21V16.75L18.45,3.32a2,2,0,0,1,2.83,0l1.4,1.43a1.91,1.91,0,0,1,.58,1.4,1.91,1.91,0,0,1-.58,1.4L9.25,21ZM18.45,9,17,7.55Zm-12,3A5.31,5.31,0,0,0,4.9,8.1,5.31,5.31,0,0,0,1,6.5,5.31,5.31,0,0,0,4.9,4.9,5.31,5.31,0,0,0,6.5,1,5.31,5.31,0,0,0,8.1,4.9,5.31,5.31,0,0,0,12,6.5,5.46,5.46,0,0,0,6.5,12Z\"/>\n",
              "  </svg>\n",
              "    </button>\n",
              "    <script>\n",
              "      (() => {\n",
              "      const buttonEl =\n",
              "        document.querySelector('#id_63ef8e1c-591a-48f8-a154-69195bd7b09d button.colab-df-generate');\n",
              "      buttonEl.style.display =\n",
              "        google.colab.kernel.accessAllowed ? 'block' : 'none';\n",
              "\n",
              "      buttonEl.onclick = () => {\n",
              "        google.colab.notebook.generateWithVariable('df');\n",
              "      }\n",
              "      })();\n",
              "    </script>\n",
              "  </div>\n",
              "\n",
              "    </div>\n",
              "  </div>\n"
            ],
            "application/vnd.google.colaboratory.intrinsic+json": {
              "type": "dataframe",
              "variable_name": "df",
              "summary": "{\n  \"name\": \"df\",\n  \"rows\": 20,\n  \"fields\": [\n    {\n      \"column\": \"Techstack\",\n      \"properties\": {\n        \"dtype\": \"string\",\n        \"num_unique_values\": 20,\n        \"samples\": [\n          \"React, Node.js, MongoDB\",\n          \"Full-stack, JavaScript, Express.js\",\n          \"Backend, Kotlin, Spring Boot\"\n        ],\n        \"semantic_type\": \"\",\n        \"description\": \"\"\n      }\n    },\n    {\n      \"column\": \"Links\",\n      \"properties\": {\n        \"dtype\": \"string\",\n        \"num_unique_values\": 20,\n        \"samples\": [\n          \"https://example.com/react-portfolio\",\n          \"https://example.com/full-stack-js-portfolio\",\n          \"https://example.com/kotlin-backend-portfolio\"\n        ],\n        \"semantic_type\": \"\",\n        \"description\": \"\"\n      }\n    }\n  ]\n}"
            }
          },
          "metadata": {},
          "execution_count": 60
        }
      ],
      "source": [
        "import pandas as pd\n",
        "\n",
        "df = pd.read_csv(\"my_portfolio.csv\")\n",
        "df"
      ]
    },
    {
      "cell_type": "code",
      "source": [
        "!pip install chromadb # Install chromadb\n",
        "import uuid\n",
        "import chromadb\n",
        "\n",
        "client = chromadb.PersistentClient('vectorstore')\n",
        "collection = client.get_or_create_collection(name=\"portfolio\")\n",
        "\n",
        "if not collection.count():\n",
        "    for _, row in df.iterrows():\n",
        "        collection.add(documents=row[\"Techstack\"],\n",
        "                       metadatas={\"links\": row[\"Links\"]},\n",
        "                       ids=[str(uuid.uuid4())])"
      ],
      "metadata": {
        "colab": {
          "base_uri": "https://localhost:8080/"
        },
        "id": "ML5cjZcft6cf",
        "outputId": "cb8bf5d2-817c-4464-c5c9-8dc7c0a92366"
      },
      "id": "ML5cjZcft6cf",
      "execution_count": 39,
      "outputs": [
        {
          "output_type": "stream",
          "name": "stdout",
          "text": [
            "Requirement already satisfied: chromadb in /usr/local/lib/python3.10/dist-packages (0.6.2)\n",
            "Requirement already satisfied: build>=1.0.3 in /usr/local/lib/python3.10/dist-packages (from chromadb) (1.2.2.post1)\n",
            "Requirement already satisfied: pydantic>=1.9 in /usr/local/lib/python3.10/dist-packages (from chromadb) (2.10.3)\n",
            "Requirement already satisfied: chroma-hnswlib==0.7.6 in /usr/local/lib/python3.10/dist-packages (from chromadb) (0.7.6)\n",
            "Requirement already satisfied: fastapi>=0.95.2 in /usr/local/lib/python3.10/dist-packages (from chromadb) (0.115.6)\n",
            "Requirement already satisfied: uvicorn>=0.18.3 in /usr/local/lib/python3.10/dist-packages (from uvicorn[standard]>=0.18.3->chromadb) (0.34.0)\n",
            "Requirement already satisfied: numpy>=1.22.5 in /usr/local/lib/python3.10/dist-packages (from chromadb) (1.26.4)\n",
            "Requirement already satisfied: posthog>=2.4.0 in /usr/local/lib/python3.10/dist-packages (from chromadb) (3.8.3)\n",
            "Requirement already satisfied: typing_extensions>=4.5.0 in /usr/local/lib/python3.10/dist-packages (from chromadb) (4.12.2)\n",
            "Requirement already satisfied: onnxruntime>=1.14.1 in /usr/local/lib/python3.10/dist-packages (from chromadb) (1.20.1)\n",
            "Requirement already satisfied: opentelemetry-api>=1.2.0 in /usr/local/lib/python3.10/dist-packages (from chromadb) (1.29.0)\n",
            "Requirement already satisfied: opentelemetry-exporter-otlp-proto-grpc>=1.2.0 in /usr/local/lib/python3.10/dist-packages (from chromadb) (1.29.0)\n",
            "Requirement already satisfied: opentelemetry-instrumentation-fastapi>=0.41b0 in /usr/local/lib/python3.10/dist-packages (from chromadb) (0.50b0)\n",
            "Requirement already satisfied: opentelemetry-sdk>=1.2.0 in /usr/local/lib/python3.10/dist-packages (from chromadb) (1.29.0)\n",
            "Requirement already satisfied: tokenizers>=0.13.2 in /usr/local/lib/python3.10/dist-packages (from chromadb) (0.21.0)\n",
            "Requirement already satisfied: pypika>=0.48.9 in /usr/local/lib/python3.10/dist-packages (from chromadb) (0.48.9)\n",
            "Requirement already satisfied: tqdm>=4.65.0 in /usr/local/lib/python3.10/dist-packages (from chromadb) (4.67.1)\n",
            "Requirement already satisfied: overrides>=7.3.1 in /usr/local/lib/python3.10/dist-packages (from chromadb) (7.7.0)\n",
            "Requirement already satisfied: importlib-resources in /usr/local/lib/python3.10/dist-packages (from chromadb) (6.4.5)\n",
            "Requirement already satisfied: grpcio>=1.58.0 in /usr/local/lib/python3.10/dist-packages (from chromadb) (1.68.1)\n",
            "Requirement already satisfied: bcrypt>=4.0.1 in /usr/local/lib/python3.10/dist-packages (from chromadb) (4.2.1)\n",
            "Requirement already satisfied: typer>=0.9.0 in /usr/local/lib/python3.10/dist-packages (from chromadb) (0.15.1)\n",
            "Requirement already satisfied: kubernetes>=28.1.0 in /usr/local/lib/python3.10/dist-packages (from chromadb) (31.0.0)\n",
            "Requirement already satisfied: tenacity>=8.2.3 in /usr/local/lib/python3.10/dist-packages (from chromadb) (9.0.0)\n",
            "Requirement already satisfied: PyYAML>=6.0.0 in /usr/local/lib/python3.10/dist-packages (from chromadb) (6.0.2)\n",
            "Requirement already satisfied: mmh3>=4.0.1 in /usr/local/lib/python3.10/dist-packages (from chromadb) (5.0.1)\n",
            "Requirement already satisfied: orjson>=3.9.12 in /usr/local/lib/python3.10/dist-packages (from chromadb) (3.10.12)\n",
            "Requirement already satisfied: httpx>=0.27.0 in /usr/local/lib/python3.10/dist-packages (from chromadb) (0.28.1)\n",
            "Requirement already satisfied: rich>=10.11.0 in /usr/local/lib/python3.10/dist-packages (from chromadb) (13.9.4)\n",
            "Requirement already satisfied: packaging>=19.1 in /usr/local/lib/python3.10/dist-packages (from build>=1.0.3->chromadb) (24.2)\n",
            "Requirement already satisfied: pyproject_hooks in /usr/local/lib/python3.10/dist-packages (from build>=1.0.3->chromadb) (1.2.0)\n",
            "Requirement already satisfied: tomli>=1.1.0 in /usr/local/lib/python3.10/dist-packages (from build>=1.0.3->chromadb) (2.2.1)\n",
            "Requirement already satisfied: starlette<0.42.0,>=0.40.0 in /usr/local/lib/python3.10/dist-packages (from fastapi>=0.95.2->chromadb) (0.41.3)\n",
            "Requirement already satisfied: anyio in /usr/local/lib/python3.10/dist-packages (from httpx>=0.27.0->chromadb) (3.7.1)\n",
            "Requirement already satisfied: certifi in /usr/local/lib/python3.10/dist-packages (from httpx>=0.27.0->chromadb) (2024.12.14)\n",
            "Requirement already satisfied: httpcore==1.* in /usr/local/lib/python3.10/dist-packages (from httpx>=0.27.0->chromadb) (1.0.7)\n",
            "Requirement already satisfied: idna in /usr/local/lib/python3.10/dist-packages (from httpx>=0.27.0->chromadb) (3.10)\n",
            "Requirement already satisfied: h11<0.15,>=0.13 in /usr/local/lib/python3.10/dist-packages (from httpcore==1.*->httpx>=0.27.0->chromadb) (0.14.0)\n",
            "Requirement already satisfied: six>=1.9.0 in /usr/local/lib/python3.10/dist-packages (from kubernetes>=28.1.0->chromadb) (1.17.0)\n",
            "Requirement already satisfied: python-dateutil>=2.5.3 in /usr/local/lib/python3.10/dist-packages (from kubernetes>=28.1.0->chromadb) (2.8.2)\n",
            "Requirement already satisfied: google-auth>=1.0.1 in /usr/local/lib/python3.10/dist-packages (from kubernetes>=28.1.0->chromadb) (2.27.0)\n",
            "Requirement already satisfied: websocket-client!=0.40.0,!=0.41.*,!=0.42.*,>=0.32.0 in /usr/local/lib/python3.10/dist-packages (from kubernetes>=28.1.0->chromadb) (1.8.0)\n",
            "Requirement already satisfied: requests in /usr/local/lib/python3.10/dist-packages (from kubernetes>=28.1.0->chromadb) (2.32.3)\n",
            "Requirement already satisfied: requests-oauthlib in /usr/local/lib/python3.10/dist-packages (from kubernetes>=28.1.0->chromadb) (1.3.1)\n",
            "Requirement already satisfied: oauthlib>=3.2.2 in /usr/local/lib/python3.10/dist-packages (from kubernetes>=28.1.0->chromadb) (3.2.2)\n",
            "Requirement already satisfied: urllib3>=1.24.2 in /usr/local/lib/python3.10/dist-packages (from kubernetes>=28.1.0->chromadb) (2.2.3)\n",
            "Requirement already satisfied: durationpy>=0.7 in /usr/local/lib/python3.10/dist-packages (from kubernetes>=28.1.0->chromadb) (0.9)\n",
            "Requirement already satisfied: coloredlogs in /usr/local/lib/python3.10/dist-packages (from onnxruntime>=1.14.1->chromadb) (15.0.1)\n",
            "Requirement already satisfied: flatbuffers in /usr/local/lib/python3.10/dist-packages (from onnxruntime>=1.14.1->chromadb) (24.3.25)\n",
            "Requirement already satisfied: protobuf in /usr/local/lib/python3.10/dist-packages (from onnxruntime>=1.14.1->chromadb) (5.29.3)\n",
            "Requirement already satisfied: sympy in /usr/local/lib/python3.10/dist-packages (from onnxruntime>=1.14.1->chromadb) (1.13.1)\n",
            "Requirement already satisfied: deprecated>=1.2.6 in /usr/local/lib/python3.10/dist-packages (from opentelemetry-api>=1.2.0->chromadb) (1.2.15)\n",
            "Requirement already satisfied: importlib-metadata<=8.5.0,>=6.0 in /usr/local/lib/python3.10/dist-packages (from opentelemetry-api>=1.2.0->chromadb) (8.5.0)\n",
            "Requirement already satisfied: googleapis-common-protos~=1.52 in /usr/local/lib/python3.10/dist-packages (from opentelemetry-exporter-otlp-proto-grpc>=1.2.0->chromadb) (1.66.0)\n",
            "Requirement already satisfied: opentelemetry-exporter-otlp-proto-common==1.29.0 in /usr/local/lib/python3.10/dist-packages (from opentelemetry-exporter-otlp-proto-grpc>=1.2.0->chromadb) (1.29.0)\n",
            "Requirement already satisfied: opentelemetry-proto==1.29.0 in /usr/local/lib/python3.10/dist-packages (from opentelemetry-exporter-otlp-proto-grpc>=1.2.0->chromadb) (1.29.0)\n",
            "Requirement already satisfied: opentelemetry-instrumentation-asgi==0.50b0 in /usr/local/lib/python3.10/dist-packages (from opentelemetry-instrumentation-fastapi>=0.41b0->chromadb) (0.50b0)\n",
            "Requirement already satisfied: opentelemetry-instrumentation==0.50b0 in /usr/local/lib/python3.10/dist-packages (from opentelemetry-instrumentation-fastapi>=0.41b0->chromadb) (0.50b0)\n",
            "Requirement already satisfied: opentelemetry-semantic-conventions==0.50b0 in /usr/local/lib/python3.10/dist-packages (from opentelemetry-instrumentation-fastapi>=0.41b0->chromadb) (0.50b0)\n",
            "Requirement already satisfied: opentelemetry-util-http==0.50b0 in /usr/local/lib/python3.10/dist-packages (from opentelemetry-instrumentation-fastapi>=0.41b0->chromadb) (0.50b0)\n",
            "Requirement already satisfied: wrapt<2.0.0,>=1.0.0 in /usr/local/lib/python3.10/dist-packages (from opentelemetry-instrumentation==0.50b0->opentelemetry-instrumentation-fastapi>=0.41b0->chromadb) (1.17.0)\n",
            "Requirement already satisfied: asgiref~=3.0 in /usr/local/lib/python3.10/dist-packages (from opentelemetry-instrumentation-asgi==0.50b0->opentelemetry-instrumentation-fastapi>=0.41b0->chromadb) (3.8.1)\n",
            "Requirement already satisfied: monotonic>=1.5 in /usr/local/lib/python3.10/dist-packages (from posthog>=2.4.0->chromadb) (1.6)\n",
            "Requirement already satisfied: backoff>=1.10.0 in /usr/local/lib/python3.10/dist-packages (from posthog>=2.4.0->chromadb) (2.2.1)\n",
            "Requirement already satisfied: annotated-types>=0.6.0 in /usr/local/lib/python3.10/dist-packages (from pydantic>=1.9->chromadb) (0.7.0)\n",
            "Requirement already satisfied: pydantic-core==2.27.1 in /usr/local/lib/python3.10/dist-packages (from pydantic>=1.9->chromadb) (2.27.1)\n",
            "Requirement already satisfied: markdown-it-py>=2.2.0 in /usr/local/lib/python3.10/dist-packages (from rich>=10.11.0->chromadb) (3.0.0)\n",
            "Requirement already satisfied: pygments<3.0.0,>=2.13.0 in /usr/local/lib/python3.10/dist-packages (from rich>=10.11.0->chromadb) (2.18.0)\n",
            "Requirement already satisfied: huggingface-hub<1.0,>=0.16.4 in /usr/local/lib/python3.10/dist-packages (from tokenizers>=0.13.2->chromadb) (0.27.0)\n",
            "Requirement already satisfied: click>=8.0.0 in /usr/local/lib/python3.10/dist-packages (from typer>=0.9.0->chromadb) (8.1.7)\n",
            "Requirement already satisfied: shellingham>=1.3.0 in /usr/local/lib/python3.10/dist-packages (from typer>=0.9.0->chromadb) (1.5.4)\n",
            "Requirement already satisfied: httptools>=0.6.3 in /usr/local/lib/python3.10/dist-packages (from uvicorn[standard]>=0.18.3->chromadb) (0.6.4)\n",
            "Requirement already satisfied: python-dotenv>=0.13 in /usr/local/lib/python3.10/dist-packages (from uvicorn[standard]>=0.18.3->chromadb) (1.0.1)\n",
            "Requirement already satisfied: uvloop!=0.15.0,!=0.15.1,>=0.14.0 in /usr/local/lib/python3.10/dist-packages (from uvicorn[standard]>=0.18.3->chromadb) (0.21.0)\n",
            "Requirement already satisfied: watchfiles>=0.13 in /usr/local/lib/python3.10/dist-packages (from uvicorn[standard]>=0.18.3->chromadb) (1.0.4)\n",
            "Requirement already satisfied: websockets>=10.4 in /usr/local/lib/python3.10/dist-packages (from uvicorn[standard]>=0.18.3->chromadb) (14.1)\n",
            "Requirement already satisfied: cachetools<6.0,>=2.0.0 in /usr/local/lib/python3.10/dist-packages (from google-auth>=1.0.1->kubernetes>=28.1.0->chromadb) (5.5.0)\n",
            "Requirement already satisfied: pyasn1-modules>=0.2.1 in /usr/local/lib/python3.10/dist-packages (from google-auth>=1.0.1->kubernetes>=28.1.0->chromadb) (0.4.1)\n",
            "Requirement already satisfied: rsa<5,>=3.1.4 in /usr/local/lib/python3.10/dist-packages (from google-auth>=1.0.1->kubernetes>=28.1.0->chromadb) (4.9)\n",
            "Requirement already satisfied: filelock in /usr/local/lib/python3.10/dist-packages (from huggingface-hub<1.0,>=0.16.4->tokenizers>=0.13.2->chromadb) (3.16.1)\n",
            "Requirement already satisfied: fsspec>=2023.5.0 in /usr/local/lib/python3.10/dist-packages (from huggingface-hub<1.0,>=0.16.4->tokenizers>=0.13.2->chromadb) (2024.10.0)\n",
            "Requirement already satisfied: zipp>=3.20 in /usr/local/lib/python3.10/dist-packages (from importlib-metadata<=8.5.0,>=6.0->opentelemetry-api>=1.2.0->chromadb) (3.21.0)\n",
            "Requirement already satisfied: mdurl~=0.1 in /usr/local/lib/python3.10/dist-packages (from markdown-it-py>=2.2.0->rich>=10.11.0->chromadb) (0.1.2)\n",
            "Requirement already satisfied: charset-normalizer<4,>=2 in /usr/local/lib/python3.10/dist-packages (from requests->kubernetes>=28.1.0->chromadb) (3.4.0)\n",
            "Requirement already satisfied: sniffio>=1.1 in /usr/local/lib/python3.10/dist-packages (from anyio->httpx>=0.27.0->chromadb) (1.3.1)\n",
            "Requirement already satisfied: exceptiongroup in /usr/local/lib/python3.10/dist-packages (from anyio->httpx>=0.27.0->chromadb) (1.2.2)\n",
            "Requirement already satisfied: humanfriendly>=9.1 in /usr/local/lib/python3.10/dist-packages (from coloredlogs->onnxruntime>=1.14.1->chromadb) (10.0)\n",
            "Requirement already satisfied: mpmath<1.4,>=1.1.0 in /usr/local/lib/python3.10/dist-packages (from sympy->onnxruntime>=1.14.1->chromadb) (1.3.0)\n",
            "Requirement already satisfied: pyasn1<0.7.0,>=0.4.6 in /usr/local/lib/python3.10/dist-packages (from pyasn1-modules>=0.2.1->google-auth>=1.0.1->kubernetes>=28.1.0->chromadb) (0.6.1)\n"
          ]
        }
      ]
    },
    {
      "cell_type": "code",
      "execution_count": 37,
      "id": "f7e888d4",
      "metadata": {
        "id": "f7e888d4",
        "colab": {
          "base_uri": "https://localhost:8080/"
        },
        "outputId": "2a6c5357-bd7d-45cd-c435-e2ad799baab5"
      },
      "outputs": [
        {
          "output_type": "stream",
          "name": "stderr",
          "text": [
            "/root/.cache/chroma/onnx_models/all-MiniLM-L6-v2/onnx.tar.gz: 100%|██████████| 79.3M/79.3M [00:03<00:00, 22.4MiB/s]\n"
          ]
        }
      ],
      "source": [
        "import uuid\n",
        "import chromadb\n",
        "\n",
        "client = chromadb.PersistentClient('vectorstore')\n",
        "collection = client.get_or_create_collection(name=\"portfolio\")\n",
        "\n",
        "if not collection.count():\n",
        "    for _, row in df.iterrows():\n",
        "        collection.add(documents=row[\"Techstack\"],\n",
        "                       metadatas={\"links\": row[\"Links\"]},\n",
        "                       ids=[str(uuid.uuid4())])"
      ]
    },
    {
      "cell_type": "code",
      "source": [
        "job = json_res # Assign the value of json_res to the variable 'job'\n",
        "links = collection.query(query_texts=job['skills'], n_results=2).get('metadatas', [])\n",
        "links"
      ],
      "metadata": {
        "colab": {
          "base_uri": "https://localhost:8080/"
        },
        "id": "vy0JkQT6uMoh",
        "outputId": "729f0858-8f35-4b3e-ed62-f943fe29fb85"
      },
      "id": "vy0JkQT6uMoh",
      "execution_count": 41,
      "outputs": [
        {
          "output_type": "execute_result",
          "data": {
            "text/plain": [
              "[[{'links': 'https://example.com/ml-python-portfolio'},\n",
              "  {'links': 'https://example.com/python-portfolio'}],\n",
              " [{'links': 'https://example.com/magento-portfolio'},\n",
              "  {'links': 'https://example.com/wordpress-portfolio'}],\n",
              " [{'links': 'https://example.com/magento-portfolio'},\n",
              "  {'links': 'https://example.com/wordpress-portfolio'}],\n",
              " [{'links': 'https://example.com/magento-portfolio'},\n",
              "  {'links': 'https://example.com/java-portfolio'}],\n",
              " [{'links': 'https://example.com/ios-ar-portfolio'},\n",
              "  {'links': 'https://example.com/wordpress-portfolio'}],\n",
              " [{'links': 'https://example.com/ml-python-portfolio'},\n",
              "  {'links': 'https://example.com/ios-ar-portfolio'}],\n",
              " [{'links': 'https://example.com/flutter-portfolio'},\n",
              "  {'links': 'https://example.com/kotlin-android-portfolio'}],\n",
              " [{'links': 'https://example.com/vue-portfolio'},\n",
              "  {'links': 'https://example.com/kotlin-android-portfolio'}],\n",
              " [{'links': 'https://example.com/android-tv-portfolio'},\n",
              "  {'links': 'https://example.com/ml-python-portfolio'}],\n",
              " [{'links': 'https://example.com/android-tv-portfolio'},\n",
              "  {'links': 'https://example.com/ios-ar-portfolio'}],\n",
              " [{'links': 'https://example.com/ml-python-portfolio'},\n",
              "  {'links': 'https://example.com/kotlin-backend-portfolio'}],\n",
              " [{'links': 'https://example.com/ios-ar-portfolio'},\n",
              "  {'links': 'https://example.com/ml-python-portfolio'}],\n",
              " [{'links': 'https://example.com/devops-portfolio'},\n",
              "  {'links': 'https://example.com/ios-ar-portfolio'}]]"
            ]
          },
          "metadata": {},
          "execution_count": 41
        }
      ]
    },
    {
      "cell_type": "code",
      "execution_count": null,
      "id": "8bd36844",
      "metadata": {
        "id": "8bd36844",
        "outputId": "29e13b0e-a993-4e60-c911-9f49b509f3de"
      },
      "outputs": [
        {
          "data": {
            "text/plain": [
              "{'role': 'Software Engineer II, AI/ML Platforms',\n",
              " 'experience': '2+ years professional software development experience',\n",
              " 'skills': ['Strong Computer Science fundamentals',\n",
              "  'Programming experience with at least one modern language such as Java, Python, Golang',\n",
              "  'Experience with Infrastructure as Code / DevOps practices and technologies like Terraform',\n",
              "  'Experience with Cloud services (e.g. AWS Cloud EC2, S3, DynamoDB, Azure Cloud, etc.)',\n",
              "  'Experience developing and using microservices'],\n",
              " 'description': 'We are looking for a Software Engineer II to design and implement core components of our data science services and platform and scale it to serve Nike globally. The focus of this engineer will be at the intersection of computer systems and machine learning. You will also work collaboratively with the data science and analytics teams to ship scalable, performant and reliable solutions.'}"
            ]
          },
          "execution_count": 15,
          "metadata": {},
          "output_type": "execute_result"
        }
      ],
      "source": [
        "job"
      ]
    },
    {
      "cell_type": "code",
      "execution_count": 42,
      "id": "1ccfd720",
      "metadata": {
        "scrolled": false,
        "id": "1ccfd720",
        "outputId": "5f8226fa-393e-4a13-9013-292cb6862c10",
        "colab": {
          "base_uri": "https://localhost:8080/"
        }
      },
      "outputs": [
        {
          "output_type": "execute_result",
          "data": {
            "text/plain": [
              "['Python',\n",
              " 'SQL',\n",
              " 'Apache Hadoop',\n",
              " 'Apache Hive',\n",
              " 'AWS',\n",
              " 'Airflow',\n",
              " 'Databricks',\n",
              " 'Apache Spark',\n",
              " 'Teradata',\n",
              " 'Snowflake',\n",
              " 'Kinesis',\n",
              " 'Lambda',\n",
              " 'EMR']"
            ]
          },
          "metadata": {},
          "execution_count": 42
        }
      ],
      "source": [
        "job = json_res\n",
        "job['skills']"
      ]
    },
    {
      "cell_type": "code",
      "execution_count": 46,
      "id": "64a97dd2",
      "metadata": {
        "id": "64a97dd2",
        "outputId": "98cf6618-c9a7-4c78-e5d9-6d069e01e510",
        "colab": {
          "base_uri": "https://localhost:8080/"
        }
      },
      "outputs": [
        {
          "output_type": "stream",
          "name": "stdout",
          "text": [
            "Subject: Expert Data Engineering Solutions for Your Business\n",
            "\n",
            "Dear Hiring Manager,\n",
            "\n",
            "I came across your job description for a Data Engineer and was impressed by the scope of the role. As a Business Development Executive at ABC, an AI & Software Consulting company, I believe we can provide the expertise you need to fulfill your data engineering requirements.\n",
            "\n",
            "Our team at ABC has extensive experience in designing and implementing features using Agile/Scrum methodology, contributing to overall architecture, frameworks, and patterns for processing and storing large data volumes. We have a strong background in building distributed data processing pipelines using tools and languages prevalent in the Hadoop or Cloud ecosystems, including Apache Hadoop, Apache Hive, AWS, Airflow, Databricks, Apache Spark, Teradata, Snowflake, Kinesis, Lambda, and EMR.\n",
            "\n",
            "We have a proven track record of delivering high-quality solutions, and our portfolio includes successful projects in machine learning and Python development (https://example.com/ml-python-portfolio, https://example.com/python-portfolio). Our expertise in DevOps (https://example.com/devops-portfolio) can also help you streamline your data engineering processes and improve overall efficiency.\n",
            "\n",
            "Our team is well-versed in building utilities, user-defined functions, and frameworks to better enable data flow patterns. We can also help you build and develop job orchestration and scheduling using Airflow, as well as research, evaluate, and utilize new technologies/tools/frameworks centered around high-volume data processing.\n",
            "\n",
            "At ABC, we are committed to delivering tailored solutions that foster scalability, process optimization, cost reduction, and heightened overall efficiency. I would be happy to discuss how our team can support your data engineering needs and provide a customized solution for your business.\n",
            "\n",
            "Please feel free to contact me to schedule a call to explore how ABC can help you achieve your goals.\n",
            "\n",
            "Best regards,\n",
            "Mohan\n",
            "Business Development Executive\n",
            "ABC\n"
          ]
        }
      ],
      "source": [
        "prompt_email = PromptTemplate.from_template(\n",
        "        \"\"\"\n",
        "        ### JOB DESCRIPTION:\n",
        "        {job_description}\n",
        "\n",
        "        ### INSTRUCTION:\n",
        "        You are Mohan, a business development executive at ABC. ABC is an AI & Software Consulting company dedicated to facilitating\n",
        "        the seamless integration of business processes through automated tools.\n",
        "        Over our experience, we have empowered numerous enterprises with tailored solutions, fostering scalability,\n",
        "        process optimization, cost reduction, and heightened overall efficiency.\n",
        "        Your job is to write a cold email to the client regarding the job mentioned above describing the capability of ABC\n",
        "        in fulfilling their needs.\n",
        "        Also add the most relevant ones from the following links to showcase ABC's portfolio: {link_list}\n",
        "        Remember you are Mohan, BDE at ABC.\n",
        "        Do not provide a preamble.\n",
        "        ### EMAIL (NO PREAMBLE):\n",
        "\n",
        "        \"\"\"\n",
        "        )\n",
        "\n",
        "chain_email = prompt_email | llm\n",
        "res = chain_email.invoke({\"job_description\": str(job), \"link_list\": links})\n",
        "print(res.content)"
      ]
    },
    {
      "cell_type": "code",
      "source": [],
      "metadata": {
        "id": "vjIX8y2WuTlk"
      },
      "id": "vjIX8y2WuTlk",
      "execution_count": null,
      "outputs": []
    }
  ],
  "metadata": {
    "kernelspec": {
      "display_name": "Python 3 (ipykernel)",
      "language": "python",
      "name": "python3"
    },
    "language_info": {
      "codemirror_mode": {
        "name": "ipython",
        "version": 3
      },
      "file_extension": ".py",
      "mimetype": "text/x-python",
      "name": "python",
      "nbconvert_exporter": "python",
      "pygments_lexer": "ipython3",
      "version": "3.10.11"
    },
    "colab": {
      "provenance": []
    }
  },
  "nbformat": 4,
  "nbformat_minor": 5
}